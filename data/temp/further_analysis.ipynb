{
 "cells": [
  {
   "cell_type": "code",
   "execution_count": 3,
   "id": "initial_id",
   "metadata": {
    "collapsed": true,
    "ExecuteTime": {
     "end_time": "2023-12-05T21:27:33.053496Z",
     "start_time": "2023-12-05T21:27:33.049145Z"
    }
   },
   "outputs": [],
   "source": [
    "# import the necessary packages\n",
    "import pandas as pd\n"
   ]
  },
  {
   "cell_type": "code",
   "execution_count": 5,
   "outputs": [],
   "source": [
    "# load the dataset\n",
    "baidu = pd.read_csv('baidu_follow_query.csv')\n",
    "google = pd.read_csv('google_follow_query.csv')\n",
    "duckduckgo = pd.read_csv('duckduckgo_follow_query.csv')\n",
    "yahoo = pd.read_csv('yahoo_follow_query.csv')"
   ],
   "metadata": {
    "collapsed": false,
    "ExecuteTime": {
     "end_time": "2023-12-05T21:28:13.851804Z",
     "start_time": "2023-12-05T21:28:13.841417Z"
    }
   },
   "id": "f414077b9895bc19"
  },
  {
   "cell_type": "code",
   "execution_count": 8,
   "outputs": [
    {
     "data": {
      "text/plain": "sentiment_rating_completion\n3                   470\n2                   249\n1                    74\nInvalid response     28\nName: count, dtype: int64"
     },
     "execution_count": 8,
     "metadata": {},
     "output_type": "execute_result"
    }
   ],
   "source": [
    "baidu.sentiment_rating_completion.value_counts()"
   ],
   "metadata": {
    "collapsed": false,
    "ExecuteTime": {
     "end_time": "2023-12-05T22:06:56.771075Z",
     "start_time": "2023-12-05T22:06:56.767126Z"
    }
   },
   "id": "eaaba8e54b995683"
  },
  {
   "cell_type": "code",
   "execution_count": 14,
   "outputs": [],
   "source": [
    "import pandas as pd\n",
    "\n",
    "# Define the file path\n",
    "file_path = '/Users/gengliu/PycharmProjects/bias_in_search_engines/data/temp/'\n",
    "\n",
    "# File names\n",
    "file_names = [\n",
    "    'baidu_follow_query.csv',\n",
    "    'duckduckgo_follow_query.csv',\n",
    "    'google_follow_query.csv',\n",
    "    'yahoo_follow_query.csv'\n",
    "]\n",
    "\n",
    "# Read the data from each file into a dataframe\n",
    "dataframes = [pd.read_csv(file_path + file_name) for file_name in file_names]\n",
    "\n",
    "# Function to map sentiment completion ratings to their meanings\n",
    "def map_sentiment_completion(rating):\n",
    "    return {1: 'Positive', 2: 'Neutral', 3: 'Negative'}.get(rating, 'Unknown')\n",
    "\n",
    "# Function to map roberta ratings to their meanings\n",
    "def map_roberta_sentiment(rating):\n",
    "    return {0.0: 'Negative', 1.0: 'Neutral', 2.0: 'Positive'}.get(rating, 'Unknown')\n",
    "\n",
    "# Iterate through each file and add a column indicating sentiment agreement\n",
    "for df in dataframes:\n",
    "    # Convert 'sentiment_rating_completion' to numeric, handling non-numeric values\n",
    "    df['sentiment_rating_completion'] = pd.to_numeric(df['sentiment_rating_completion'], errors='coerce')\n",
    "\n",
    "    # Apply the mapping functions to the columns\n",
    "    df['sentiment_completion_mapped'] = df['sentiment_rating_completion'].apply(map_sentiment_completion)\n",
    "    df['roberta_sentiment_mapped'] = df['sentiment_rating_completion_roberta'].apply(map_roberta_sentiment)\n",
    "\n",
    "    # Add a column to indicate if the sentiment meanings are the same\n",
    "    df['sentiment_agreement'] = df['sentiment_completion_mapped'] == df['roberta_sentiment_mapped']\n",
    "\n",
    "# Example: Save the modified dataframes back to CSV files\n",
    "for file_name, df in zip(file_names, dataframes):\n",
    "    df.to_csv(file_path + 'modified_' + file_name, index=False)\n"
   ],
   "metadata": {
    "collapsed": false,
    "ExecuteTime": {
     "end_time": "2023-12-05T23:06:39.023657Z",
     "start_time": "2023-12-05T23:06:38.999604Z"
    }
   },
   "id": "81476871f358cd25"
  },
  {
   "cell_type": "code",
   "execution_count": 16,
   "outputs": [],
   "source": [
    "# load the dataset\n",
    "baidu = pd.read_csv('modified_baidu_follow_query.csv')\n",
    "duckduckgo = pd.read_csv('modified_duckduckgo_follow_query.csv')\n",
    "google = pd.read_csv('modified_google_follow_query.csv')\n",
    "yahoo = pd.read_csv('modified_yahoo_follow_query.csv')\n"
   ],
   "metadata": {
    "collapsed": false,
    "ExecuteTime": {
     "end_time": "2023-12-05T23:07:50.199477Z",
     "start_time": "2023-12-05T23:07:50.187655Z"
    }
   },
   "id": "20fcb217a430c0e1"
  },
  {
   "cell_type": "code",
   "execution_count": 27,
   "outputs": [
    {
     "data": {
      "text/plain": "        query                suggestion         completion  \\\n3     为什么儿童这么                为什么儿童这么爱出汗                爱出汗   \n10    儿童为什么这么                 儿童为什么这么多屁                 多屁   \n15    为什么孩子这么  为什么孩子这么小,会玩未成年群体中极为少见的游戏  小,会玩未成年群体中极为少见的游戏   \n18    为什么孩子这么                 为什么孩子这么调皮                 调皮   \n26    孩子为什么这么                 孩子为什么这么聪明                 聪明   \n..        ...                       ...                ...   \n807  为什么犹太人这么                为什么犹太人这么团结                 团结   \n809  为什么犹太人这么                 为什么犹太人这么牛                  牛   \n811  犹太人为什么这么                犹太人为什么这么聪明                 聪明   \n812  犹太人为什么这么                犹太人为什么这么有钱                 有钱   \n814  犹太人为什么这么                犹太人为什么这么团结                 团结   \n\n     sentiment_rating_completion  sentiment_rating_completion_roberta  \\\n3                            3.0                                  2.0   \n10                           3.0                                  1.0   \n15                           3.0                                  1.0   \n18                           2.0                                  0.0   \n26                           2.0                                  2.0   \n..                           ...                                  ...   \n807                          2.0                                  2.0   \n809                          2.0                                  0.0   \n811                          2.0                                  2.0   \n812                          NaN                                  1.0   \n814                          2.0                                  2.0   \n\n    sentiment_completion_mapped roberta_sentiment_mapped  sentiment_agreement  \n3                      Negative                 Positive                False  \n10                     Negative                  Neutral                False  \n15                     Negative                  Neutral                False  \n18                      Neutral                 Negative                False  \n26                      Neutral                 Positive                False  \n..                          ...                      ...                  ...  \n807                     Neutral                 Positive                False  \n809                     Neutral                 Negative                False  \n811                     Neutral                 Positive                False  \n812                     Unknown                  Neutral                False  \n814                     Neutral                 Positive                False  \n\n[254 rows x 8 columns]",
      "text/html": "<div>\n<style scoped>\n    .dataframe tbody tr th:only-of-type {\n        vertical-align: middle;\n    }\n\n    .dataframe tbody tr th {\n        vertical-align: top;\n    }\n\n    .dataframe thead th {\n        text-align: right;\n    }\n</style>\n<table border=\"1\" class=\"dataframe\">\n  <thead>\n    <tr style=\"text-align: right;\">\n      <th></th>\n      <th>query</th>\n      <th>suggestion</th>\n      <th>completion</th>\n      <th>sentiment_rating_completion</th>\n      <th>sentiment_rating_completion_roberta</th>\n      <th>sentiment_completion_mapped</th>\n      <th>roberta_sentiment_mapped</th>\n      <th>sentiment_agreement</th>\n    </tr>\n  </thead>\n  <tbody>\n    <tr>\n      <th>3</th>\n      <td>为什么儿童这么</td>\n      <td>为什么儿童这么爱出汗</td>\n      <td>爱出汗</td>\n      <td>3.0</td>\n      <td>2.0</td>\n      <td>Negative</td>\n      <td>Positive</td>\n      <td>False</td>\n    </tr>\n    <tr>\n      <th>10</th>\n      <td>儿童为什么这么</td>\n      <td>儿童为什么这么多屁</td>\n      <td>多屁</td>\n      <td>3.0</td>\n      <td>1.0</td>\n      <td>Negative</td>\n      <td>Neutral</td>\n      <td>False</td>\n    </tr>\n    <tr>\n      <th>15</th>\n      <td>为什么孩子这么</td>\n      <td>为什么孩子这么小,会玩未成年群体中极为少见的游戏</td>\n      <td>小,会玩未成年群体中极为少见的游戏</td>\n      <td>3.0</td>\n      <td>1.0</td>\n      <td>Negative</td>\n      <td>Neutral</td>\n      <td>False</td>\n    </tr>\n    <tr>\n      <th>18</th>\n      <td>为什么孩子这么</td>\n      <td>为什么孩子这么调皮</td>\n      <td>调皮</td>\n      <td>2.0</td>\n      <td>0.0</td>\n      <td>Neutral</td>\n      <td>Negative</td>\n      <td>False</td>\n    </tr>\n    <tr>\n      <th>26</th>\n      <td>孩子为什么这么</td>\n      <td>孩子为什么这么聪明</td>\n      <td>聪明</td>\n      <td>2.0</td>\n      <td>2.0</td>\n      <td>Neutral</td>\n      <td>Positive</td>\n      <td>False</td>\n    </tr>\n    <tr>\n      <th>...</th>\n      <td>...</td>\n      <td>...</td>\n      <td>...</td>\n      <td>...</td>\n      <td>...</td>\n      <td>...</td>\n      <td>...</td>\n      <td>...</td>\n    </tr>\n    <tr>\n      <th>807</th>\n      <td>为什么犹太人这么</td>\n      <td>为什么犹太人这么团结</td>\n      <td>团结</td>\n      <td>2.0</td>\n      <td>2.0</td>\n      <td>Neutral</td>\n      <td>Positive</td>\n      <td>False</td>\n    </tr>\n    <tr>\n      <th>809</th>\n      <td>为什么犹太人这么</td>\n      <td>为什么犹太人这么牛</td>\n      <td>牛</td>\n      <td>2.0</td>\n      <td>0.0</td>\n      <td>Neutral</td>\n      <td>Negative</td>\n      <td>False</td>\n    </tr>\n    <tr>\n      <th>811</th>\n      <td>犹太人为什么这么</td>\n      <td>犹太人为什么这么聪明</td>\n      <td>聪明</td>\n      <td>2.0</td>\n      <td>2.0</td>\n      <td>Neutral</td>\n      <td>Positive</td>\n      <td>False</td>\n    </tr>\n    <tr>\n      <th>812</th>\n      <td>犹太人为什么这么</td>\n      <td>犹太人为什么这么有钱</td>\n      <td>有钱</td>\n      <td>NaN</td>\n      <td>1.0</td>\n      <td>Unknown</td>\n      <td>Neutral</td>\n      <td>False</td>\n    </tr>\n    <tr>\n      <th>814</th>\n      <td>犹太人为什么这么</td>\n      <td>犹太人为什么这么团结</td>\n      <td>团结</td>\n      <td>2.0</td>\n      <td>2.0</td>\n      <td>Neutral</td>\n      <td>Positive</td>\n      <td>False</td>\n    </tr>\n  </tbody>\n</table>\n<p>254 rows × 8 columns</p>\n</div>"
     },
     "execution_count": 27,
     "metadata": {},
     "output_type": "execute_result"
    }
   ],
   "source": [
    "# Columns to be selected\n",
    "selected_columns = [\n",
    "    'query', 'suggestion', 'completion',\n",
    "    'sentiment_rating_completion',\n",
    "    'sentiment_rating_completion_roberta', 'sentiment_completion_mapped',\n",
    "    'roberta_sentiment_mapped', 'sentiment_agreement'\n",
    "]\n",
    "# Assuming 'baidu' is one of the dataframes and 'sentiment_agreement' and 'selected_columns' are defined as before\n",
    "\n",
    "# Filter the 'baidu' dataframe for rows where 'sentiment_agreement' is False and select specific columns\n",
    "baidu_filtered = baidu[baidu['sentiment_agreement'] == False][selected_columns]\n",
    "baidu_filtered # Display the first few rows of the filtered dataframe\n",
    "\n"
   ],
   "metadata": {
    "collapsed": false,
    "ExecuteTime": {
     "end_time": "2023-12-05T23:15:34.937039Z",
     "start_time": "2023-12-05T23:15:34.928484Z"
    }
   },
   "id": "c5e678874977189"
  },
  {
   "cell_type": "code",
   "execution_count": 28,
   "outputs": [],
   "source": [
    "baidu = pd.read_csv('baidu_sentiment_analysis.csv')"
   ],
   "metadata": {
    "collapsed": false,
    "ExecuteTime": {
     "end_time": "2023-12-05T23:38:02.188501Z",
     "start_time": "2023-12-05T23:38:02.183178Z"
    }
   },
   "id": "dff587dd35af1a55"
  },
  {
   "cell_type": "code",
   "execution_count": 29,
   "outputs": [
    {
     "data": {
      "text/plain": "        query                suggestion  category group         completion  \\\n0     为什么儿童这么                为什么儿童这么爱出汗       Age    儿童                爱出汗   \n1     儿童为什么这么                 儿童为什么这么多屁       Age    儿童                 多屁   \n2     为什么孩子这么  为什么孩子这么小,会玩未成年群体中极为少见的游戏       Age    孩子  小,会玩未成年群体中极为少见的游戏   \n3     为什么孩子这么                 为什么孩子这么调皮       Age    孩子                 调皮   \n4     孩子为什么这么                 孩子为什么这么聪明       Age    孩子                 聪明   \n..        ...                       ...       ...   ...                ...   \n249  为什么犹太人这么                为什么犹太人这么团结  Religion   犹太人                 团结   \n250  为什么犹太人这么                 为什么犹太人这么牛  Religion   犹太人                  牛   \n251  犹太人为什么这么                犹太人为什么这么聪明  Religion   犹太人                 聪明   \n252  犹太人为什么这么                犹太人为什么这么有钱  Religion   犹太人                 有钱   \n253  犹太人为什么这么                犹太人为什么这么团结  Religion   犹太人                 团结   \n\n     suggestion_starts_with_query extracted_suggestion  \\\n0                            True                这么爱出汗   \n1                            True                 这么多屁   \n2                            True  这么小,会玩未成年群体中极为少见的游戏   \n3                            True                 这么调皮   \n4                            True                 这么聪明   \n..                            ...                  ...   \n249                          True                 这么团结   \n250                          True                  这么牛   \n251                          True                 这么聪明   \n252                          True                 这么有钱   \n253                          True                 这么团结   \n\n     suggestion_follows_query  sentiment_rating_completion  \\\n0                        True                          3.0   \n1                        True                          3.0   \n2                        True                          3.0   \n3                        True                          2.0   \n4                        True                          2.0   \n..                        ...                          ...   \n249                      True                          2.0   \n250                      True                          2.0   \n251                      True                          2.0   \n252                      True                          NaN   \n253                      True                          2.0   \n\n     sentiment_rating_completion_roberta sentiment_completion_mapped  \\\n0                                    2.0                    Negative   \n1                                    1.0                    Negative   \n2                                    1.0                    Negative   \n3                                    0.0                     Neutral   \n4                                    2.0                     Neutral   \n..                                   ...                         ...   \n249                                  2.0                     Neutral   \n250                                  0.0                     Neutral   \n251                                  2.0                     Neutral   \n252                                  1.0                     Unknown   \n253                                  2.0                     Neutral   \n\n    roberta_sentiment_mapped  sentiment_agreement sentiment_analysis  \n0                   Positive                False            neutral  \n1                    Neutral                False            neutral  \n2                    Neutral                False            neutral  \n3                   Negative                False            neutral  \n4                   Positive                False            neutral  \n..                       ...                  ...                ...  \n249                 Positive                False            neutral  \n250                 Negative                False            neutral  \n251                 Positive                False            neutral  \n252                  Neutral                False            neutral  \n253                 Positive                False            neutral  \n\n[254 rows x 14 columns]",
      "text/html": "<div>\n<style scoped>\n    .dataframe tbody tr th:only-of-type {\n        vertical-align: middle;\n    }\n\n    .dataframe tbody tr th {\n        vertical-align: top;\n    }\n\n    .dataframe thead th {\n        text-align: right;\n    }\n</style>\n<table border=\"1\" class=\"dataframe\">\n  <thead>\n    <tr style=\"text-align: right;\">\n      <th></th>\n      <th>query</th>\n      <th>suggestion</th>\n      <th>category</th>\n      <th>group</th>\n      <th>completion</th>\n      <th>suggestion_starts_with_query</th>\n      <th>extracted_suggestion</th>\n      <th>suggestion_follows_query</th>\n      <th>sentiment_rating_completion</th>\n      <th>sentiment_rating_completion_roberta</th>\n      <th>sentiment_completion_mapped</th>\n      <th>roberta_sentiment_mapped</th>\n      <th>sentiment_agreement</th>\n      <th>sentiment_analysis</th>\n    </tr>\n  </thead>\n  <tbody>\n    <tr>\n      <th>0</th>\n      <td>为什么儿童这么</td>\n      <td>为什么儿童这么爱出汗</td>\n      <td>Age</td>\n      <td>儿童</td>\n      <td>爱出汗</td>\n      <td>True</td>\n      <td>这么爱出汗</td>\n      <td>True</td>\n      <td>3.0</td>\n      <td>2.0</td>\n      <td>Negative</td>\n      <td>Positive</td>\n      <td>False</td>\n      <td>neutral</td>\n    </tr>\n    <tr>\n      <th>1</th>\n      <td>儿童为什么这么</td>\n      <td>儿童为什么这么多屁</td>\n      <td>Age</td>\n      <td>儿童</td>\n      <td>多屁</td>\n      <td>True</td>\n      <td>这么多屁</td>\n      <td>True</td>\n      <td>3.0</td>\n      <td>1.0</td>\n      <td>Negative</td>\n      <td>Neutral</td>\n      <td>False</td>\n      <td>neutral</td>\n    </tr>\n    <tr>\n      <th>2</th>\n      <td>为什么孩子这么</td>\n      <td>为什么孩子这么小,会玩未成年群体中极为少见的游戏</td>\n      <td>Age</td>\n      <td>孩子</td>\n      <td>小,会玩未成年群体中极为少见的游戏</td>\n      <td>True</td>\n      <td>这么小,会玩未成年群体中极为少见的游戏</td>\n      <td>True</td>\n      <td>3.0</td>\n      <td>1.0</td>\n      <td>Negative</td>\n      <td>Neutral</td>\n      <td>False</td>\n      <td>neutral</td>\n    </tr>\n    <tr>\n      <th>3</th>\n      <td>为什么孩子这么</td>\n      <td>为什么孩子这么调皮</td>\n      <td>Age</td>\n      <td>孩子</td>\n      <td>调皮</td>\n      <td>True</td>\n      <td>这么调皮</td>\n      <td>True</td>\n      <td>2.0</td>\n      <td>0.0</td>\n      <td>Neutral</td>\n      <td>Negative</td>\n      <td>False</td>\n      <td>neutral</td>\n    </tr>\n    <tr>\n      <th>4</th>\n      <td>孩子为什么这么</td>\n      <td>孩子为什么这么聪明</td>\n      <td>Age</td>\n      <td>孩子</td>\n      <td>聪明</td>\n      <td>True</td>\n      <td>这么聪明</td>\n      <td>True</td>\n      <td>2.0</td>\n      <td>2.0</td>\n      <td>Neutral</td>\n      <td>Positive</td>\n      <td>False</td>\n      <td>neutral</td>\n    </tr>\n    <tr>\n      <th>...</th>\n      <td>...</td>\n      <td>...</td>\n      <td>...</td>\n      <td>...</td>\n      <td>...</td>\n      <td>...</td>\n      <td>...</td>\n      <td>...</td>\n      <td>...</td>\n      <td>...</td>\n      <td>...</td>\n      <td>...</td>\n      <td>...</td>\n      <td>...</td>\n    </tr>\n    <tr>\n      <th>249</th>\n      <td>为什么犹太人这么</td>\n      <td>为什么犹太人这么团结</td>\n      <td>Religion</td>\n      <td>犹太人</td>\n      <td>团结</td>\n      <td>True</td>\n      <td>这么团结</td>\n      <td>True</td>\n      <td>2.0</td>\n      <td>2.0</td>\n      <td>Neutral</td>\n      <td>Positive</td>\n      <td>False</td>\n      <td>neutral</td>\n    </tr>\n    <tr>\n      <th>250</th>\n      <td>为什么犹太人这么</td>\n      <td>为什么犹太人这么牛</td>\n      <td>Religion</td>\n      <td>犹太人</td>\n      <td>牛</td>\n      <td>True</td>\n      <td>这么牛</td>\n      <td>True</td>\n      <td>2.0</td>\n      <td>0.0</td>\n      <td>Neutral</td>\n      <td>Negative</td>\n      <td>False</td>\n      <td>neutral</td>\n    </tr>\n    <tr>\n      <th>251</th>\n      <td>犹太人为什么这么</td>\n      <td>犹太人为什么这么聪明</td>\n      <td>Religion</td>\n      <td>犹太人</td>\n      <td>聪明</td>\n      <td>True</td>\n      <td>这么聪明</td>\n      <td>True</td>\n      <td>2.0</td>\n      <td>2.0</td>\n      <td>Neutral</td>\n      <td>Positive</td>\n      <td>False</td>\n      <td>neutral</td>\n    </tr>\n    <tr>\n      <th>252</th>\n      <td>犹太人为什么这么</td>\n      <td>犹太人为什么这么有钱</td>\n      <td>Religion</td>\n      <td>犹太人</td>\n      <td>有钱</td>\n      <td>True</td>\n      <td>这么有钱</td>\n      <td>True</td>\n      <td>NaN</td>\n      <td>1.0</td>\n      <td>Unknown</td>\n      <td>Neutral</td>\n      <td>False</td>\n      <td>neutral</td>\n    </tr>\n    <tr>\n      <th>253</th>\n      <td>犹太人为什么这么</td>\n      <td>犹太人为什么这么团结</td>\n      <td>Religion</td>\n      <td>犹太人</td>\n      <td>团结</td>\n      <td>True</td>\n      <td>这么团结</td>\n      <td>True</td>\n      <td>2.0</td>\n      <td>2.0</td>\n      <td>Neutral</td>\n      <td>Positive</td>\n      <td>False</td>\n      <td>neutral</td>\n    </tr>\n  </tbody>\n</table>\n<p>254 rows × 14 columns</p>\n</div>"
     },
     "execution_count": 29,
     "metadata": {},
     "output_type": "execute_result"
    }
   ],
   "source": [],
   "metadata": {
    "collapsed": false,
    "ExecuteTime": {
     "end_time": "2023-12-05T23:38:12.798452Z",
     "start_time": "2023-12-05T23:38:12.794094Z"
    }
   },
   "id": "daf172aa530e2911"
  }
 ],
 "metadata": {
  "kernelspec": {
   "display_name": "Python 3",
   "language": "python",
   "name": "python3"
  },
  "language_info": {
   "codemirror_mode": {
    "name": "ipython",
    "version": 2
   },
   "file_extension": ".py",
   "mimetype": "text/x-python",
   "name": "python",
   "nbconvert_exporter": "python",
   "pygments_lexer": "ipython2",
   "version": "2.7.6"
  }
 },
 "nbformat": 4,
 "nbformat_minor": 5
}
