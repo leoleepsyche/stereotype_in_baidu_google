{
 "cells": [
  {
   "cell_type": "code",
   "execution_count": 7,
   "id": "initial_id",
   "metadata": {
    "collapsed": true,
    "ExecuteTime": {
     "end_time": "2023-11-26T10:26:07.138489Z",
     "start_time": "2023-11-26T10:26:07.122251Z"
    }
   },
   "outputs": [],
   "source": [
    "# import pandas\n",
    "import pandas as pd\n",
    "# read files\n",
    "baidu = pd.read_csv('../data/baidu/baidu_2023-11-26.csv')\n",
    "google = pd.read_csv('../data/google/google_2023-11-26.csv')\n",
    "yahoo = pd.read_csv('../data/yahoo/yahoo_2023-11-26.csv')\n",
    "duckduckgo = pd.read_csv('../data/duckduckgo/duckduckgo_2023-11-26.csv')\n"
   ]
  },
  {
   "cell_type": "code",
   "execution_count": 8,
   "outputs": [
    {
     "data": {
      "text/plain": "          query     suggestion            category group     completion\n0       为什么儿童这么     为什么儿童这么多哮喘                 Age    儿童            多哮喘\n1       为什么儿童这么    为什么儿童这么多白血病                 Age    儿童           多白血病\n2       为什么儿童这么   为什么儿童这么多罕见病呢                 Age    儿童          多罕见病呢\n3       为什么儿童这么     为什么儿童这么爱出汗                 Age    儿童            爱出汗\n4       为什么儿童这么     儿童为什么说话这么晚                 Age    儿童     儿童为什么说话这么晚\n...         ...            ...                 ...   ...            ...\n2316  女同性恋为什么这么      女同性恋为什么百合  Sexual Orientation  女同性恋      女同性恋为什么百合\n2317  女同性恋为什么这么  网络上女同性恋为什么那么多  Sexual Orientation  女同性恋  网络上女同性恋为什么那么多\n2318  女同性恋为什么这么     女同性恋为什么会产生  Sexual Orientation  女同性恋     女同性恋为什么会产生\n2319  女同性恋为什么这么     成都为什么女同性恋多  Sexual Orientation  女同性恋     成都为什么女同性恋多\n2320  女同性恋为什么这么   为什么女同性恋执着于上下  Sexual Orientation  女同性恋   为什么女同性恋执着于上下\n\n[2321 rows x 5 columns]",
      "text/html": "<div>\n<style scoped>\n    .dataframe tbody tr th:only-of-type {\n        vertical-align: middle;\n    }\n\n    .dataframe tbody tr th {\n        vertical-align: top;\n    }\n\n    .dataframe thead th {\n        text-align: right;\n    }\n</style>\n<table border=\"1\" class=\"dataframe\">\n  <thead>\n    <tr style=\"text-align: right;\">\n      <th></th>\n      <th>query</th>\n      <th>suggestion</th>\n      <th>category</th>\n      <th>group</th>\n      <th>completion</th>\n    </tr>\n  </thead>\n  <tbody>\n    <tr>\n      <th>0</th>\n      <td>为什么儿童这么</td>\n      <td>为什么儿童这么多哮喘</td>\n      <td>Age</td>\n      <td>儿童</td>\n      <td>多哮喘</td>\n    </tr>\n    <tr>\n      <th>1</th>\n      <td>为什么儿童这么</td>\n      <td>为什么儿童这么多白血病</td>\n      <td>Age</td>\n      <td>儿童</td>\n      <td>多白血病</td>\n    </tr>\n    <tr>\n      <th>2</th>\n      <td>为什么儿童这么</td>\n      <td>为什么儿童这么多罕见病呢</td>\n      <td>Age</td>\n      <td>儿童</td>\n      <td>多罕见病呢</td>\n    </tr>\n    <tr>\n      <th>3</th>\n      <td>为什么儿童这么</td>\n      <td>为什么儿童这么爱出汗</td>\n      <td>Age</td>\n      <td>儿童</td>\n      <td>爱出汗</td>\n    </tr>\n    <tr>\n      <th>4</th>\n      <td>为什么儿童这么</td>\n      <td>儿童为什么说话这么晚</td>\n      <td>Age</td>\n      <td>儿童</td>\n      <td>儿童为什么说话这么晚</td>\n    </tr>\n    <tr>\n      <th>...</th>\n      <td>...</td>\n      <td>...</td>\n      <td>...</td>\n      <td>...</td>\n      <td>...</td>\n    </tr>\n    <tr>\n      <th>2316</th>\n      <td>女同性恋为什么这么</td>\n      <td>女同性恋为什么百合</td>\n      <td>Sexual Orientation</td>\n      <td>女同性恋</td>\n      <td>女同性恋为什么百合</td>\n    </tr>\n    <tr>\n      <th>2317</th>\n      <td>女同性恋为什么这么</td>\n      <td>网络上女同性恋为什么那么多</td>\n      <td>Sexual Orientation</td>\n      <td>女同性恋</td>\n      <td>网络上女同性恋为什么那么多</td>\n    </tr>\n    <tr>\n      <th>2318</th>\n      <td>女同性恋为什么这么</td>\n      <td>女同性恋为什么会产生</td>\n      <td>Sexual Orientation</td>\n      <td>女同性恋</td>\n      <td>女同性恋为什么会产生</td>\n    </tr>\n    <tr>\n      <th>2319</th>\n      <td>女同性恋为什么这么</td>\n      <td>成都为什么女同性恋多</td>\n      <td>Sexual Orientation</td>\n      <td>女同性恋</td>\n      <td>成都为什么女同性恋多</td>\n    </tr>\n    <tr>\n      <th>2320</th>\n      <td>女同性恋为什么这么</td>\n      <td>为什么女同性恋执着于上下</td>\n      <td>Sexual Orientation</td>\n      <td>女同性恋</td>\n      <td>为什么女同性恋执着于上下</td>\n    </tr>\n  </tbody>\n</table>\n<p>2321 rows × 5 columns</p>\n</div>"
     },
     "execution_count": 8,
     "metadata": {},
     "output_type": "execute_result"
    }
   ],
   "source": [],
   "metadata": {
    "collapsed": false,
    "ExecuteTime": {
     "end_time": "2023-11-26T10:26:10.023285Z",
     "start_time": "2023-11-26T10:26:10.013263Z"
    }
   },
   "id": "23818ae7acfe513f"
  },
  {
   "cell_type": "code",
   "execution_count": 3,
   "outputs": [],
   "source": [
    "baidu_2 = pd.read_csv('../data/baidu/baidu_2023-11-23.csv')"
   ],
   "metadata": {
    "collapsed": false,
    "ExecuteTime": {
     "end_time": "2023-11-26T09:25:01.909746Z",
     "start_time": "2023-11-26T09:25:01.889908Z"
    }
   },
   "id": "1ead4942702ff7d2"
  },
  {
   "cell_type": "code",
   "execution_count": 4,
   "outputs": [
    {
     "data": {
      "text/plain": "          query    suggestion            category group    completion\n0       为什么儿童这么    为什么儿童这么多哮喘                 Age    儿童           多哮喘\n1       为什么儿童这么   为什么儿童这么多白血病                 Age    儿童          多白血病\n2       为什么儿童这么  为什么儿童这么多罕见病呢                 Age    儿童         多罕见病呢\n3       为什么儿童这么    为什么儿童这么爱出汗                 Age    儿童           爱出汗\n4       为什么儿童这么    儿童为什么说话这么晚                 Age    儿童    儿童为什么说话这么晚\n...         ...           ...                 ...   ...           ...\n2369  女同性恋为什么这么    女同性恋为什么会产生  Sexual Orientation  女同性恋    女同性恋为什么会产生\n2370  女同性恋为什么这么   女同性恋为什么要用尿垫  Sexual Orientation  女同性恋   女同性恋为什么要用尿垫\n2371  女同性恋为什么这么  为什么现在这么多女同性恋  Sexual Orientation  女同性恋  为什么现在这么多女同性恋\n2372  女同性恋为什么这么    成都为什么女同性恋多  Sexual Orientation  女同性恋    成都为什么女同性恋多\n2373  女同性恋为什么这么  为什么女同性恋执着于上下  Sexual Orientation  女同性恋  为什么女同性恋执着于上下\n\n[2374 rows x 5 columns]",
      "text/html": "<div>\n<style scoped>\n    .dataframe tbody tr th:only-of-type {\n        vertical-align: middle;\n    }\n\n    .dataframe tbody tr th {\n        vertical-align: top;\n    }\n\n    .dataframe thead th {\n        text-align: right;\n    }\n</style>\n<table border=\"1\" class=\"dataframe\">\n  <thead>\n    <tr style=\"text-align: right;\">\n      <th></th>\n      <th>query</th>\n      <th>suggestion</th>\n      <th>category</th>\n      <th>group</th>\n      <th>completion</th>\n    </tr>\n  </thead>\n  <tbody>\n    <tr>\n      <th>0</th>\n      <td>为什么儿童这么</td>\n      <td>为什么儿童这么多哮喘</td>\n      <td>Age</td>\n      <td>儿童</td>\n      <td>多哮喘</td>\n    </tr>\n    <tr>\n      <th>1</th>\n      <td>为什么儿童这么</td>\n      <td>为什么儿童这么多白血病</td>\n      <td>Age</td>\n      <td>儿童</td>\n      <td>多白血病</td>\n    </tr>\n    <tr>\n      <th>2</th>\n      <td>为什么儿童这么</td>\n      <td>为什么儿童这么多罕见病呢</td>\n      <td>Age</td>\n      <td>儿童</td>\n      <td>多罕见病呢</td>\n    </tr>\n    <tr>\n      <th>3</th>\n      <td>为什么儿童这么</td>\n      <td>为什么儿童这么爱出汗</td>\n      <td>Age</td>\n      <td>儿童</td>\n      <td>爱出汗</td>\n    </tr>\n    <tr>\n      <th>4</th>\n      <td>为什么儿童这么</td>\n      <td>儿童为什么说话这么晚</td>\n      <td>Age</td>\n      <td>儿童</td>\n      <td>儿童为什么说话这么晚</td>\n    </tr>\n    <tr>\n      <th>...</th>\n      <td>...</td>\n      <td>...</td>\n      <td>...</td>\n      <td>...</td>\n      <td>...</td>\n    </tr>\n    <tr>\n      <th>2369</th>\n      <td>女同性恋为什么这么</td>\n      <td>女同性恋为什么会产生</td>\n      <td>Sexual Orientation</td>\n      <td>女同性恋</td>\n      <td>女同性恋为什么会产生</td>\n    </tr>\n    <tr>\n      <th>2370</th>\n      <td>女同性恋为什么这么</td>\n      <td>女同性恋为什么要用尿垫</td>\n      <td>Sexual Orientation</td>\n      <td>女同性恋</td>\n      <td>女同性恋为什么要用尿垫</td>\n    </tr>\n    <tr>\n      <th>2371</th>\n      <td>女同性恋为什么这么</td>\n      <td>为什么现在这么多女同性恋</td>\n      <td>Sexual Orientation</td>\n      <td>女同性恋</td>\n      <td>为什么现在这么多女同性恋</td>\n    </tr>\n    <tr>\n      <th>2372</th>\n      <td>女同性恋为什么这么</td>\n      <td>成都为什么女同性恋多</td>\n      <td>Sexual Orientation</td>\n      <td>女同性恋</td>\n      <td>成都为什么女同性恋多</td>\n    </tr>\n    <tr>\n      <th>2373</th>\n      <td>女同性恋为什么这么</td>\n      <td>为什么女同性恋执着于上下</td>\n      <td>Sexual Orientation</td>\n      <td>女同性恋</td>\n      <td>为什么女同性恋执着于上下</td>\n    </tr>\n  </tbody>\n</table>\n<p>2374 rows × 5 columns</p>\n</div>"
     },
     "execution_count": 4,
     "metadata": {},
     "output_type": "execute_result"
    }
   ],
   "source": [
    "baidu_2"
   ],
   "metadata": {
    "collapsed": false,
    "ExecuteTime": {
     "end_time": "2023-11-26T09:25:05.249200Z",
     "start_time": "2023-11-26T09:25:05.242442Z"
    }
   },
   "id": "ddfd919128147af6"
  },
  {
   "cell_type": "code",
   "execution_count": 9,
   "outputs": [
    {
     "data": {
      "text/plain": "                    query                                         suggestion  \\\n0      why are boomers so                    why are boomers so out of touch   \n1      why are boomers so                        why are boomers so entitled   \n2      why are boomers so                     why are boomers so controlling   \n3      why are boomers so                 why are boomers so entitled reddit   \n4      why are boomers so            why are boomers so emotionally immature   \n..                    ...                                                ...   \n658  why are religions so                            what are some religions   \n659  why are religions so                          why religion so important   \n660  why are religions so                          what religion are somalis   \n661  why are religions so  what are some religious objections to covid va...   \n662  why are religions so                    what are some religious beliefs   \n\n     category      group                                         completion  \n0         Age    boomers                                       out of touch  \n1         Age    boomers                                           entitled  \n2         Age    boomers                                        controlling  \n3         Age    boomers                                    entitled reddit  \n4         Age    boomers                               emotionally immature  \n..        ...        ...                                                ...  \n658  Religion  religions                            what are some religions  \n659  Religion  religions                          why religion so important  \n660  Religion  religions                          what religion are somalis  \n661  Religion  religions  what are some religious objections to covid va...  \n662  Religion  religions                    what are some religious beliefs  \n\n[663 rows x 5 columns]",
      "text/html": "<div>\n<style scoped>\n    .dataframe tbody tr th:only-of-type {\n        vertical-align: middle;\n    }\n\n    .dataframe tbody tr th {\n        vertical-align: top;\n    }\n\n    .dataframe thead th {\n        text-align: right;\n    }\n</style>\n<table border=\"1\" class=\"dataframe\">\n  <thead>\n    <tr style=\"text-align: right;\">\n      <th></th>\n      <th>query</th>\n      <th>suggestion</th>\n      <th>category</th>\n      <th>group</th>\n      <th>completion</th>\n    </tr>\n  </thead>\n  <tbody>\n    <tr>\n      <th>0</th>\n      <td>why are boomers so</td>\n      <td>why are boomers so out of touch</td>\n      <td>Age</td>\n      <td>boomers</td>\n      <td>out of touch</td>\n    </tr>\n    <tr>\n      <th>1</th>\n      <td>why are boomers so</td>\n      <td>why are boomers so entitled</td>\n      <td>Age</td>\n      <td>boomers</td>\n      <td>entitled</td>\n    </tr>\n    <tr>\n      <th>2</th>\n      <td>why are boomers so</td>\n      <td>why are boomers so controlling</td>\n      <td>Age</td>\n      <td>boomers</td>\n      <td>controlling</td>\n    </tr>\n    <tr>\n      <th>3</th>\n      <td>why are boomers so</td>\n      <td>why are boomers so entitled reddit</td>\n      <td>Age</td>\n      <td>boomers</td>\n      <td>entitled reddit</td>\n    </tr>\n    <tr>\n      <th>4</th>\n      <td>why are boomers so</td>\n      <td>why are boomers so emotionally immature</td>\n      <td>Age</td>\n      <td>boomers</td>\n      <td>emotionally immature</td>\n    </tr>\n    <tr>\n      <th>...</th>\n      <td>...</td>\n      <td>...</td>\n      <td>...</td>\n      <td>...</td>\n      <td>...</td>\n    </tr>\n    <tr>\n      <th>658</th>\n      <td>why are religions so</td>\n      <td>what are some religions</td>\n      <td>Religion</td>\n      <td>religions</td>\n      <td>what are some religions</td>\n    </tr>\n    <tr>\n      <th>659</th>\n      <td>why are religions so</td>\n      <td>why religion so important</td>\n      <td>Religion</td>\n      <td>religions</td>\n      <td>why religion so important</td>\n    </tr>\n    <tr>\n      <th>660</th>\n      <td>why are religions so</td>\n      <td>what religion are somalis</td>\n      <td>Religion</td>\n      <td>religions</td>\n      <td>what religion are somalis</td>\n    </tr>\n    <tr>\n      <th>661</th>\n      <td>why are religions so</td>\n      <td>what are some religious objections to covid va...</td>\n      <td>Religion</td>\n      <td>religions</td>\n      <td>what are some religious objections to covid va...</td>\n    </tr>\n    <tr>\n      <th>662</th>\n      <td>why are religions so</td>\n      <td>what are some religious beliefs</td>\n      <td>Religion</td>\n      <td>religions</td>\n      <td>what are some religious beliefs</td>\n    </tr>\n  </tbody>\n</table>\n<p>663 rows × 5 columns</p>\n</div>"
     },
     "execution_count": 9,
     "metadata": {},
     "output_type": "execute_result"
    }
   ],
   "source": [
    "google"
   ],
   "metadata": {
    "collapsed": false,
    "ExecuteTime": {
     "end_time": "2023-11-26T10:26:31.920918Z",
     "start_time": "2023-11-26T10:26:31.910158Z"
    }
   },
   "id": "38d6e4a9d9fbec50"
  },
  {
   "cell_type": "code",
   "execution_count": 10,
   "outputs": [
    {
     "data": {
      "text/plain": "                       query                         suggestion  \\\n0         why are boomers so        why are boomers so annoying   \n1         why are boomers so            why are boomers so mean   \n2         why are boomers so            why are boomers so dumb   \n3         why are boomers so    why are boomers so conservative   \n4         why are boomers so        why are boomers so entitled   \n..                       ...                                ...   \n460         why are Sikhs so    why are muslims so against jews   \n461         why are Sikhs so    why are muslims so conservative   \n462         why are Sikhs so     why are muslims so spoken word   \n463         why are Sikhs so            why are muslims so rich   \n464  why are queer people so  why are lgbtq people so sensitive   \n\n               category         group                         completion  \n0                   Age       boomers                           annoying  \n1                   Age       boomers                               mean  \n2                   Age       boomers                               dumb  \n3                   Age       boomers                       conservative  \n4                   Age       boomers                           entitled  \n..                  ...           ...                                ...  \n460            Religion         Sikhs    why are muslims so against jews  \n461            Religion         Sikhs    why are muslims so conservative  \n462            Religion         Sikhs     why are muslims so spoken word  \n463            Religion         Sikhs            why are muslims so rich  \n464  Sexual Orientation  queer people  why are lgbtq people so sensitive  \n\n[465 rows x 5 columns]",
      "text/html": "<div>\n<style scoped>\n    .dataframe tbody tr th:only-of-type {\n        vertical-align: middle;\n    }\n\n    .dataframe tbody tr th {\n        vertical-align: top;\n    }\n\n    .dataframe thead th {\n        text-align: right;\n    }\n</style>\n<table border=\"1\" class=\"dataframe\">\n  <thead>\n    <tr style=\"text-align: right;\">\n      <th></th>\n      <th>query</th>\n      <th>suggestion</th>\n      <th>category</th>\n      <th>group</th>\n      <th>completion</th>\n    </tr>\n  </thead>\n  <tbody>\n    <tr>\n      <th>0</th>\n      <td>why are boomers so</td>\n      <td>why are boomers so annoying</td>\n      <td>Age</td>\n      <td>boomers</td>\n      <td>annoying</td>\n    </tr>\n    <tr>\n      <th>1</th>\n      <td>why are boomers so</td>\n      <td>why are boomers so mean</td>\n      <td>Age</td>\n      <td>boomers</td>\n      <td>mean</td>\n    </tr>\n    <tr>\n      <th>2</th>\n      <td>why are boomers so</td>\n      <td>why are boomers so dumb</td>\n      <td>Age</td>\n      <td>boomers</td>\n      <td>dumb</td>\n    </tr>\n    <tr>\n      <th>3</th>\n      <td>why are boomers so</td>\n      <td>why are boomers so conservative</td>\n      <td>Age</td>\n      <td>boomers</td>\n      <td>conservative</td>\n    </tr>\n    <tr>\n      <th>4</th>\n      <td>why are boomers so</td>\n      <td>why are boomers so entitled</td>\n      <td>Age</td>\n      <td>boomers</td>\n      <td>entitled</td>\n    </tr>\n    <tr>\n      <th>...</th>\n      <td>...</td>\n      <td>...</td>\n      <td>...</td>\n      <td>...</td>\n      <td>...</td>\n    </tr>\n    <tr>\n      <th>460</th>\n      <td>why are Sikhs so</td>\n      <td>why are muslims so against jews</td>\n      <td>Religion</td>\n      <td>Sikhs</td>\n      <td>why are muslims so against jews</td>\n    </tr>\n    <tr>\n      <th>461</th>\n      <td>why are Sikhs so</td>\n      <td>why are muslims so conservative</td>\n      <td>Religion</td>\n      <td>Sikhs</td>\n      <td>why are muslims so conservative</td>\n    </tr>\n    <tr>\n      <th>462</th>\n      <td>why are Sikhs so</td>\n      <td>why are muslims so spoken word</td>\n      <td>Religion</td>\n      <td>Sikhs</td>\n      <td>why are muslims so spoken word</td>\n    </tr>\n    <tr>\n      <th>463</th>\n      <td>why are Sikhs so</td>\n      <td>why are muslims so rich</td>\n      <td>Religion</td>\n      <td>Sikhs</td>\n      <td>why are muslims so rich</td>\n    </tr>\n    <tr>\n      <th>464</th>\n      <td>why are queer people so</td>\n      <td>why are lgbtq people so sensitive</td>\n      <td>Sexual Orientation</td>\n      <td>queer people</td>\n      <td>why are lgbtq people so sensitive</td>\n    </tr>\n  </tbody>\n</table>\n<p>465 rows × 5 columns</p>\n</div>"
     },
     "execution_count": 10,
     "metadata": {},
     "output_type": "execute_result"
    }
   ],
   "source": [
    "yahoo"
   ],
   "metadata": {
    "collapsed": false,
    "ExecuteTime": {
     "end_time": "2023-11-26T10:26:50.979669Z",
     "start_time": "2023-11-26T10:26:50.967072Z"
    }
   },
   "id": "ea53789563b42b79"
  },
  {
   "cell_type": "code",
   "execution_count": 11,
   "outputs": [
    {
     "data": {
      "text/plain": "                           query                             suggestion  \\\n0             why are boomers so     why are there so many baby boomers   \n1             why are boomers so            why are boomers so entitled   \n2             why are boomers so          why are boomers still working   \n3             why are boomers so                   what do boomers want   \n4             why are boomers so             what are boomers known for   \n..                           ...                                    ...   \n937  why are pansexual people so  what does it mean when your pansexual   \n938  why are pansexual people so  does pansexual mean you like everyone   \n939  why are pansexual people so             why is it called pansexual   \n940      why are queer people so                   what makes you queer   \n941      why are queer people so      what does it mean when your queer   \n\n               category             group  \\\n0                   Age           boomers   \n1                   Age           boomers   \n2                   Age           boomers   \n3                   Age           boomers   \n4                   Age           boomers   \n..                  ...               ...   \n937  Sexual Orientation  pansexual people   \n938  Sexual Orientation  pansexual people   \n939  Sexual Orientation  pansexual people   \n940  Sexual Orientation      queer people   \n941  Sexual Orientation      queer people   \n\n                                completion  \n0       why are there so many baby boomers  \n1                                 entitled  \n2            why are boomers still working  \n3                     what do boomers want  \n4               what are boomers known for  \n..                                     ...  \n937  what does it mean when your pansexual  \n938  does pansexual mean you like everyone  \n939             why is it called pansexual  \n940                   what makes you queer  \n941      what does it mean when your queer  \n\n[942 rows x 5 columns]",
      "text/html": "<div>\n<style scoped>\n    .dataframe tbody tr th:only-of-type {\n        vertical-align: middle;\n    }\n\n    .dataframe tbody tr th {\n        vertical-align: top;\n    }\n\n    .dataframe thead th {\n        text-align: right;\n    }\n</style>\n<table border=\"1\" class=\"dataframe\">\n  <thead>\n    <tr style=\"text-align: right;\">\n      <th></th>\n      <th>query</th>\n      <th>suggestion</th>\n      <th>category</th>\n      <th>group</th>\n      <th>completion</th>\n    </tr>\n  </thead>\n  <tbody>\n    <tr>\n      <th>0</th>\n      <td>why are boomers so</td>\n      <td>why are there so many baby boomers</td>\n      <td>Age</td>\n      <td>boomers</td>\n      <td>why are there so many baby boomers</td>\n    </tr>\n    <tr>\n      <th>1</th>\n      <td>why are boomers so</td>\n      <td>why are boomers so entitled</td>\n      <td>Age</td>\n      <td>boomers</td>\n      <td>entitled</td>\n    </tr>\n    <tr>\n      <th>2</th>\n      <td>why are boomers so</td>\n      <td>why are boomers still working</td>\n      <td>Age</td>\n      <td>boomers</td>\n      <td>why are boomers still working</td>\n    </tr>\n    <tr>\n      <th>3</th>\n      <td>why are boomers so</td>\n      <td>what do boomers want</td>\n      <td>Age</td>\n      <td>boomers</td>\n      <td>what do boomers want</td>\n    </tr>\n    <tr>\n      <th>4</th>\n      <td>why are boomers so</td>\n      <td>what are boomers known for</td>\n      <td>Age</td>\n      <td>boomers</td>\n      <td>what are boomers known for</td>\n    </tr>\n    <tr>\n      <th>...</th>\n      <td>...</td>\n      <td>...</td>\n      <td>...</td>\n      <td>...</td>\n      <td>...</td>\n    </tr>\n    <tr>\n      <th>937</th>\n      <td>why are pansexual people so</td>\n      <td>what does it mean when your pansexual</td>\n      <td>Sexual Orientation</td>\n      <td>pansexual people</td>\n      <td>what does it mean when your pansexual</td>\n    </tr>\n    <tr>\n      <th>938</th>\n      <td>why are pansexual people so</td>\n      <td>does pansexual mean you like everyone</td>\n      <td>Sexual Orientation</td>\n      <td>pansexual people</td>\n      <td>does pansexual mean you like everyone</td>\n    </tr>\n    <tr>\n      <th>939</th>\n      <td>why are pansexual people so</td>\n      <td>why is it called pansexual</td>\n      <td>Sexual Orientation</td>\n      <td>pansexual people</td>\n      <td>why is it called pansexual</td>\n    </tr>\n    <tr>\n      <th>940</th>\n      <td>why are queer people so</td>\n      <td>what makes you queer</td>\n      <td>Sexual Orientation</td>\n      <td>queer people</td>\n      <td>what makes you queer</td>\n    </tr>\n    <tr>\n      <th>941</th>\n      <td>why are queer people so</td>\n      <td>what does it mean when your queer</td>\n      <td>Sexual Orientation</td>\n      <td>queer people</td>\n      <td>what does it mean when your queer</td>\n    </tr>\n  </tbody>\n</table>\n<p>942 rows × 5 columns</p>\n</div>"
     },
     "execution_count": 11,
     "metadata": {},
     "output_type": "execute_result"
    }
   ],
   "source": [
    "duckduckgo"
   ],
   "metadata": {
    "collapsed": false,
    "ExecuteTime": {
     "end_time": "2023-11-26T10:26:59.628113Z",
     "start_time": "2023-11-26T10:26:59.615521Z"
    }
   },
   "id": "5cb4a143a4fb1df1"
  },
  {
   "cell_type": "code",
   "execution_count": null,
   "outputs": [],
   "source": [],
   "metadata": {
    "collapsed": false
   },
   "id": "b3968da326b2ec85"
  }
 ],
 "metadata": {
  "kernelspec": {
   "display_name": "Python 3",
   "language": "python",
   "name": "python3"
  },
  "language_info": {
   "codemirror_mode": {
    "name": "ipython",
    "version": 2
   },
   "file_extension": ".py",
   "mimetype": "text/x-python",
   "name": "python",
   "nbconvert_exporter": "python",
   "pygments_lexer": "ipython2",
   "version": "2.7.6"
  }
 },
 "nbformat": 4,
 "nbformat_minor": 5
}
