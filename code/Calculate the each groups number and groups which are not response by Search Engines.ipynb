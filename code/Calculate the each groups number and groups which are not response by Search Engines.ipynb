{
 "cells": [
  {
   "cell_type": "markdown",
   "source": [
    "#### no response query in baidu\n"
   ],
   "metadata": {
    "collapsed": false
   },
   "id": "75ea27760a3b2ea3"
  },
  {
   "cell_type": "code",
   "execution_count": 1,
   "outputs": [],
   "source": [
    "# import pandas\n",
    "import pandas as pd"
   ],
   "metadata": {
    "collapsed": false,
    "ExecuteTime": {
     "start_time": "2023-11-27T07:11:42.079377Z"
    }
   },
   "id": "initial_id"
  },
  {
   "cell_type": "code",
   "execution_count": 3,
   "outputs": [],
   "source": [
    "# read in the dictionary\n",
    "data = pd.read_csv('../data/Groups_finnaly.csv')"
   ],
   "metadata": {
    "collapsed": false,
    "ExecuteTime": {
     "end_time": "2023-11-27T07:18:17.482383Z",
     "start_time": "2023-11-27T07:18:17.475785Z"
    }
   },
   "id": "31600f8a75f3290c"
  },
  {
   "cell_type": "code",
   "execution_count": 12,
   "outputs": [
    {
     "data": {
      "text/plain": "          query            category   group           English\n0    为什么婴儿潮一代这么                 Age   婴儿潮一代           boomers\n1    婴儿潮一代为什么这么                 Age   婴儿潮一代           boomers\n2       为什么继母这么              Gender      继母       stepmothers\n3       继母为什么这么              Gender      继母       stepmothers\n4      为什么先生们这么              Gender     先生们         gentlemen\n5      先生们为什么这么              Gender     先生们         gentlemen\n6       为什么潮人这么           Lifestyle      潮人          hipsters\n7       潮人为什么这么           Lifestyle      潮人          hipsters\n8    为什么哥伦比亚人这么       Nationalities   哥伦比亚人        Colombians\n9     为什么金发女郎这么             Peoples    金发女郎           blondes\n10    金发女郎为什么这么             Peoples    金发女郎           blondes\n11   为什么共产主义者这么           Political   共产主义者        communists\n12   共产主义者为什么这么           Political   共产主义者        communists\n13   为什么社会主义者这么           Political   社会主义者        socialists\n14   社会主义者为什么这么           Political   社会主义者        socialists\n15     为什么穆斯林这么            Religion     穆斯林           Muslims\n16     穆斯林为什么这么            Religion     穆斯林           Muslims\n17     为什么新教徒这么            Religion     新教徒       Protestants\n18     新教徒为什么这么            Religion     新教徒       Protestants\n19    为什么宗教人士这么            Religion    宗教人士         religions\n20    宗教人士为什么这么            Religion    宗教人士         religions\n21    为什么泛性人群这么  Sexual Orientation    泛性人群  pansexual people\n22    泛性人群为什么这么  Sexual Orientation    泛性人群  pansexual people\n23  为什么非异性恋群体这么  Sexual Orientation  非异性恋群体      queer people\n24  非异性恋群体为什么这么  Sexual Orientation  非异性恋群体      queer people",
      "text/html": "<div>\n<style scoped>\n    .dataframe tbody tr th:only-of-type {\n        vertical-align: middle;\n    }\n\n    .dataframe tbody tr th {\n        vertical-align: top;\n    }\n\n    .dataframe thead th {\n        text-align: right;\n    }\n</style>\n<table border=\"1\" class=\"dataframe\">\n  <thead>\n    <tr style=\"text-align: right;\">\n      <th></th>\n      <th>query</th>\n      <th>category</th>\n      <th>group</th>\n      <th>English</th>\n    </tr>\n  </thead>\n  <tbody>\n    <tr>\n      <th>0</th>\n      <td>为什么婴儿潮一代这么</td>\n      <td>Age</td>\n      <td>婴儿潮一代</td>\n      <td>boomers</td>\n    </tr>\n    <tr>\n      <th>1</th>\n      <td>婴儿潮一代为什么这么</td>\n      <td>Age</td>\n      <td>婴儿潮一代</td>\n      <td>boomers</td>\n    </tr>\n    <tr>\n      <th>2</th>\n      <td>为什么继母这么</td>\n      <td>Gender</td>\n      <td>继母</td>\n      <td>stepmothers</td>\n    </tr>\n    <tr>\n      <th>3</th>\n      <td>继母为什么这么</td>\n      <td>Gender</td>\n      <td>继母</td>\n      <td>stepmothers</td>\n    </tr>\n    <tr>\n      <th>4</th>\n      <td>为什么先生们这么</td>\n      <td>Gender</td>\n      <td>先生们</td>\n      <td>gentlemen</td>\n    </tr>\n    <tr>\n      <th>5</th>\n      <td>先生们为什么这么</td>\n      <td>Gender</td>\n      <td>先生们</td>\n      <td>gentlemen</td>\n    </tr>\n    <tr>\n      <th>6</th>\n      <td>为什么潮人这么</td>\n      <td>Lifestyle</td>\n      <td>潮人</td>\n      <td>hipsters</td>\n    </tr>\n    <tr>\n      <th>7</th>\n      <td>潮人为什么这么</td>\n      <td>Lifestyle</td>\n      <td>潮人</td>\n      <td>hipsters</td>\n    </tr>\n    <tr>\n      <th>8</th>\n      <td>为什么哥伦比亚人这么</td>\n      <td>Nationalities</td>\n      <td>哥伦比亚人</td>\n      <td>Colombians</td>\n    </tr>\n    <tr>\n      <th>9</th>\n      <td>为什么金发女郎这么</td>\n      <td>Peoples</td>\n      <td>金发女郎</td>\n      <td>blondes</td>\n    </tr>\n    <tr>\n      <th>10</th>\n      <td>金发女郎为什么这么</td>\n      <td>Peoples</td>\n      <td>金发女郎</td>\n      <td>blondes</td>\n    </tr>\n    <tr>\n      <th>11</th>\n      <td>为什么共产主义者这么</td>\n      <td>Political</td>\n      <td>共产主义者</td>\n      <td>communists</td>\n    </tr>\n    <tr>\n      <th>12</th>\n      <td>共产主义者为什么这么</td>\n      <td>Political</td>\n      <td>共产主义者</td>\n      <td>communists</td>\n    </tr>\n    <tr>\n      <th>13</th>\n      <td>为什么社会主义者这么</td>\n      <td>Political</td>\n      <td>社会主义者</td>\n      <td>socialists</td>\n    </tr>\n    <tr>\n      <th>14</th>\n      <td>社会主义者为什么这么</td>\n      <td>Political</td>\n      <td>社会主义者</td>\n      <td>socialists</td>\n    </tr>\n    <tr>\n      <th>15</th>\n      <td>为什么穆斯林这么</td>\n      <td>Religion</td>\n      <td>穆斯林</td>\n      <td>Muslims</td>\n    </tr>\n    <tr>\n      <th>16</th>\n      <td>穆斯林为什么这么</td>\n      <td>Religion</td>\n      <td>穆斯林</td>\n      <td>Muslims</td>\n    </tr>\n    <tr>\n      <th>17</th>\n      <td>为什么新教徒这么</td>\n      <td>Religion</td>\n      <td>新教徒</td>\n      <td>Protestants</td>\n    </tr>\n    <tr>\n      <th>18</th>\n      <td>新教徒为什么这么</td>\n      <td>Religion</td>\n      <td>新教徒</td>\n      <td>Protestants</td>\n    </tr>\n    <tr>\n      <th>19</th>\n      <td>为什么宗教人士这么</td>\n      <td>Religion</td>\n      <td>宗教人士</td>\n      <td>religions</td>\n    </tr>\n    <tr>\n      <th>20</th>\n      <td>宗教人士为什么这么</td>\n      <td>Religion</td>\n      <td>宗教人士</td>\n      <td>religions</td>\n    </tr>\n    <tr>\n      <th>21</th>\n      <td>为什么泛性人群这么</td>\n      <td>Sexual Orientation</td>\n      <td>泛性人群</td>\n      <td>pansexual people</td>\n    </tr>\n    <tr>\n      <th>22</th>\n      <td>泛性人群为什么这么</td>\n      <td>Sexual Orientation</td>\n      <td>泛性人群</td>\n      <td>pansexual people</td>\n    </tr>\n    <tr>\n      <th>23</th>\n      <td>为什么非异性恋群体这么</td>\n      <td>Sexual Orientation</td>\n      <td>非异性恋群体</td>\n      <td>queer people</td>\n    </tr>\n    <tr>\n      <th>24</th>\n      <td>非异性恋群体为什么这么</td>\n      <td>Sexual Orientation</td>\n      <td>非异性恋群体</td>\n      <td>queer people</td>\n    </tr>\n  </tbody>\n</table>\n</div>"
     },
     "execution_count": 12,
     "metadata": {},
     "output_type": "execute_result"
    }
   ],
   "source": [
    "# Initialize DataFrame and template list\n",
    "templates = [\"为什么待替换词汇这么\", \"待替换词汇为什么这么\"]\n",
    "df = pd.DataFrame(columns=['query', 'category', 'group', 'English'])\n",
    "\n",
    "# Group translations by category and convert to dictionary\n",
    "translation_dict = data.groupby('Category')['Translation'].apply(list).to_dict()\n",
    "\n",
    "# Assuming you have a column 'English' in the 'data' DataFrame that maps each group to its English equivalent\n",
    "group_to_english = data.set_index('Translation')['English'].to_dict()\n",
    "\n",
    "# Build DataFrame using list comprehension\n",
    "rows = [\n",
    "    {\n",
    "        'query': template.replace(\"待替换词汇\", group).replace(\" \", \"+\"),\n",
    "        'category': category,\n",
    "        'group': group,\n",
    "        'English': group_to_english.get(group, 'Unknown')  # Get English equivalent from mapping\n",
    "    }\n",
    "    for category, groups in translation_dict.items()\n",
    "    for group in groups\n",
    "    for template in templates\n",
    "]\n",
    "df = pd.DataFrame(rows)\n",
    "\n",
    "def check_unresponded_queries(main_df, comparison_df):\n",
    "    \"\"\"\n",
    "    Check which queries from main_df did not get a response in comparison_df.\n",
    "\n",
    "    :param main_df: DataFrame with 'query' column\n",
    "    :param comparison_df: DataFrame with 'query' column to compare against\n",
    "    :return: DataFrame with queries from main_df not present in comparison_df\n",
    "    \"\"\"\n",
    "    unresponded_queries = set(main_df['query']) - set(comparison_df['query'])\n",
    "    return main_df[main_df['query'].isin(unresponded_queries)].drop_duplicates('query').reset_index(drop=True)\n",
    "\n",
    "# Assuming baidu_df represents the response data from Baidu\n",
    "unresponded_queries_baidu = check_unresponded_queries(df, baidu)\n",
    "unresponded_queries_baidu"
   ],
   "metadata": {
    "collapsed": false,
    "ExecuteTime": {
     "end_time": "2023-11-27T07:43:25.670602Z",
     "start_time": "2023-11-27T07:43:25.656965Z"
    }
   },
   "id": "598ed11a1e9e5267"
  },
  {
   "cell_type": "code",
   "execution_count": 5,
   "outputs": [
    {
     "data": {
      "text/plain": "          query            category   group\n0    为什么婴儿潮一代这么                 Age   婴儿潮一代\n1    婴儿潮一代为什么这么                 Age   婴儿潮一代\n2       为什么继母这么              Gender      继母\n3       继母为什么这么              Gender      继母\n4      为什么先生们这么              Gender     先生们\n5      先生们为什么这么              Gender     先生们\n6       为什么潮人这么           Lifestyle      潮人\n7       潮人为什么这么           Lifestyle      潮人\n8    为什么哥伦比亚人这么       Nationalities   哥伦比亚人\n9     为什么金发女郎这么             Peoples    金发女郎\n10    金发女郎为什么这么             Peoples    金发女郎\n11   为什么共产主义者这么           Political   共产主义者\n12   共产主义者为什么这么           Political   共产主义者\n13   为什么社会主义者这么           Political   社会主义者\n14   社会主义者为什么这么           Political   社会主义者\n15     为什么穆斯林这么            Religion     穆斯林\n16     穆斯林为什么这么            Religion     穆斯林\n17     为什么新教徒这么            Religion     新教徒\n18     新教徒为什么这么            Religion     新教徒\n19    为什么宗教人士这么            Religion    宗教人士\n20    宗教人士为什么这么            Religion    宗教人士\n21    为什么泛性人群这么  Sexual Orientation    泛性人群\n22    泛性人群为什么这么  Sexual Orientation    泛性人群\n23  为什么非异性恋群体这么  Sexual Orientation  非异性恋群体\n24  非异性恋群体为什么这么  Sexual Orientation  非异性恋群体",
      "text/html": "<div>\n<style scoped>\n    .dataframe tbody tr th:only-of-type {\n        vertical-align: middle;\n    }\n\n    .dataframe tbody tr th {\n        vertical-align: top;\n    }\n\n    .dataframe thead th {\n        text-align: right;\n    }\n</style>\n<table border=\"1\" class=\"dataframe\">\n  <thead>\n    <tr style=\"text-align: right;\">\n      <th></th>\n      <th>query</th>\n      <th>category</th>\n      <th>group</th>\n    </tr>\n  </thead>\n  <tbody>\n    <tr>\n      <th>0</th>\n      <td>为什么婴儿潮一代这么</td>\n      <td>Age</td>\n      <td>婴儿潮一代</td>\n    </tr>\n    <tr>\n      <th>1</th>\n      <td>婴儿潮一代为什么这么</td>\n      <td>Age</td>\n      <td>婴儿潮一代</td>\n    </tr>\n    <tr>\n      <th>2</th>\n      <td>为什么继母这么</td>\n      <td>Gender</td>\n      <td>继母</td>\n    </tr>\n    <tr>\n      <th>3</th>\n      <td>继母为什么这么</td>\n      <td>Gender</td>\n      <td>继母</td>\n    </tr>\n    <tr>\n      <th>4</th>\n      <td>为什么先生们这么</td>\n      <td>Gender</td>\n      <td>先生们</td>\n    </tr>\n    <tr>\n      <th>5</th>\n      <td>先生们为什么这么</td>\n      <td>Gender</td>\n      <td>先生们</td>\n    </tr>\n    <tr>\n      <th>6</th>\n      <td>为什么潮人这么</td>\n      <td>Lifestyle</td>\n      <td>潮人</td>\n    </tr>\n    <tr>\n      <th>7</th>\n      <td>潮人为什么这么</td>\n      <td>Lifestyle</td>\n      <td>潮人</td>\n    </tr>\n    <tr>\n      <th>8</th>\n      <td>为什么哥伦比亚人这么</td>\n      <td>Nationalities</td>\n      <td>哥伦比亚人</td>\n    </tr>\n    <tr>\n      <th>9</th>\n      <td>为什么金发女郎这么</td>\n      <td>Peoples</td>\n      <td>金发女郎</td>\n    </tr>\n    <tr>\n      <th>10</th>\n      <td>金发女郎为什么这么</td>\n      <td>Peoples</td>\n      <td>金发女郎</td>\n    </tr>\n    <tr>\n      <th>11</th>\n      <td>为什么共产主义者这么</td>\n      <td>Political</td>\n      <td>共产主义者</td>\n    </tr>\n    <tr>\n      <th>12</th>\n      <td>共产主义者为什么这么</td>\n      <td>Political</td>\n      <td>共产主义者</td>\n    </tr>\n    <tr>\n      <th>13</th>\n      <td>为什么社会主义者这么</td>\n      <td>Political</td>\n      <td>社会主义者</td>\n    </tr>\n    <tr>\n      <th>14</th>\n      <td>社会主义者为什么这么</td>\n      <td>Political</td>\n      <td>社会主义者</td>\n    </tr>\n    <tr>\n      <th>15</th>\n      <td>为什么穆斯林这么</td>\n      <td>Religion</td>\n      <td>穆斯林</td>\n    </tr>\n    <tr>\n      <th>16</th>\n      <td>穆斯林为什么这么</td>\n      <td>Religion</td>\n      <td>穆斯林</td>\n    </tr>\n    <tr>\n      <th>17</th>\n      <td>为什么新教徒这么</td>\n      <td>Religion</td>\n      <td>新教徒</td>\n    </tr>\n    <tr>\n      <th>18</th>\n      <td>新教徒为什么这么</td>\n      <td>Religion</td>\n      <td>新教徒</td>\n    </tr>\n    <tr>\n      <th>19</th>\n      <td>为什么宗教人士这么</td>\n      <td>Religion</td>\n      <td>宗教人士</td>\n    </tr>\n    <tr>\n      <th>20</th>\n      <td>宗教人士为什么这么</td>\n      <td>Religion</td>\n      <td>宗教人士</td>\n    </tr>\n    <tr>\n      <th>21</th>\n      <td>为什么泛性人群这么</td>\n      <td>Sexual Orientation</td>\n      <td>泛性人群</td>\n    </tr>\n    <tr>\n      <th>22</th>\n      <td>泛性人群为什么这么</td>\n      <td>Sexual Orientation</td>\n      <td>泛性人群</td>\n    </tr>\n    <tr>\n      <th>23</th>\n      <td>为什么非异性恋群体这么</td>\n      <td>Sexual Orientation</td>\n      <td>非异性恋群体</td>\n    </tr>\n    <tr>\n      <th>24</th>\n      <td>非异性恋群体为什么这么</td>\n      <td>Sexual Orientation</td>\n      <td>非异性恋群体</td>\n    </tr>\n  </tbody>\n</table>\n</div>"
     },
     "execution_count": 5,
     "metadata": {},
     "output_type": "execute_result"
    }
   ],
   "source": [
    "# Check for unresponded queries in Baidu\n",
    "baidu = pd.read_csv('../data/baidu/baidu_2023-11-26.csv')\n",
    "unresponded_queries_baidu = check_unresponded_queries(df, baidu)\n"
   ],
   "metadata": {
    "collapsed": false,
    "ExecuteTime": {
     "end_time": "2023-11-27T07:19:03.106641Z",
     "start_time": "2023-11-27T07:19:03.087837Z"
    }
   },
   "id": "4d9f06a99ee48dfc"
  },
  {
   "cell_type": "code",
   "execution_count": 6,
   "outputs": [
    {
     "data": {
      "text/plain": "          query            category   group\n0    为什么婴儿潮一代这么                 Age   婴儿潮一代\n1    婴儿潮一代为什么这么                 Age   婴儿潮一代\n2       为什么继母这么              Gender      继母\n3       继母为什么这么              Gender      继母\n4      为什么先生们这么              Gender     先生们\n5      先生们为什么这么              Gender     先生们\n6       为什么潮人这么           Lifestyle      潮人\n7       潮人为什么这么           Lifestyle      潮人\n8    为什么哥伦比亚人这么       Nationalities   哥伦比亚人\n9     为什么金发女郎这么             Peoples    金发女郎\n10    金发女郎为什么这么             Peoples    金发女郎\n11   为什么共产主义者这么           Political   共产主义者\n12   共产主义者为什么这么           Political   共产主义者\n13   为什么社会主义者这么           Political   社会主义者\n14   社会主义者为什么这么           Political   社会主义者\n15     为什么穆斯林这么            Religion     穆斯林\n16     穆斯林为什么这么            Religion     穆斯林\n17     为什么新教徒这么            Religion     新教徒\n18     新教徒为什么这么            Religion     新教徒\n19    为什么宗教人士这么            Religion    宗教人士\n20    宗教人士为什么这么            Religion    宗教人士\n21    为什么泛性人群这么  Sexual Orientation    泛性人群\n22    泛性人群为什么这么  Sexual Orientation    泛性人群\n23  为什么非异性恋群体这么  Sexual Orientation  非异性恋群体\n24  非异性恋群体为什么这么  Sexual Orientation  非异性恋群体",
      "text/html": "<div>\n<style scoped>\n    .dataframe tbody tr th:only-of-type {\n        vertical-align: middle;\n    }\n\n    .dataframe tbody tr th {\n        vertical-align: top;\n    }\n\n    .dataframe thead th {\n        text-align: right;\n    }\n</style>\n<table border=\"1\" class=\"dataframe\">\n  <thead>\n    <tr style=\"text-align: right;\">\n      <th></th>\n      <th>query</th>\n      <th>category</th>\n      <th>group</th>\n    </tr>\n  </thead>\n  <tbody>\n    <tr>\n      <th>0</th>\n      <td>为什么婴儿潮一代这么</td>\n      <td>Age</td>\n      <td>婴儿潮一代</td>\n    </tr>\n    <tr>\n      <th>1</th>\n      <td>婴儿潮一代为什么这么</td>\n      <td>Age</td>\n      <td>婴儿潮一代</td>\n    </tr>\n    <tr>\n      <th>2</th>\n      <td>为什么继母这么</td>\n      <td>Gender</td>\n      <td>继母</td>\n    </tr>\n    <tr>\n      <th>3</th>\n      <td>继母为什么这么</td>\n      <td>Gender</td>\n      <td>继母</td>\n    </tr>\n    <tr>\n      <th>4</th>\n      <td>为什么先生们这么</td>\n      <td>Gender</td>\n      <td>先生们</td>\n    </tr>\n    <tr>\n      <th>5</th>\n      <td>先生们为什么这么</td>\n      <td>Gender</td>\n      <td>先生们</td>\n    </tr>\n    <tr>\n      <th>6</th>\n      <td>为什么潮人这么</td>\n      <td>Lifestyle</td>\n      <td>潮人</td>\n    </tr>\n    <tr>\n      <th>7</th>\n      <td>潮人为什么这么</td>\n      <td>Lifestyle</td>\n      <td>潮人</td>\n    </tr>\n    <tr>\n      <th>8</th>\n      <td>为什么哥伦比亚人这么</td>\n      <td>Nationalities</td>\n      <td>哥伦比亚人</td>\n    </tr>\n    <tr>\n      <th>9</th>\n      <td>为什么金发女郎这么</td>\n      <td>Peoples</td>\n      <td>金发女郎</td>\n    </tr>\n    <tr>\n      <th>10</th>\n      <td>金发女郎为什么这么</td>\n      <td>Peoples</td>\n      <td>金发女郎</td>\n    </tr>\n    <tr>\n      <th>11</th>\n      <td>为什么共产主义者这么</td>\n      <td>Political</td>\n      <td>共产主义者</td>\n    </tr>\n    <tr>\n      <th>12</th>\n      <td>共产主义者为什么这么</td>\n      <td>Political</td>\n      <td>共产主义者</td>\n    </tr>\n    <tr>\n      <th>13</th>\n      <td>为什么社会主义者这么</td>\n      <td>Political</td>\n      <td>社会主义者</td>\n    </tr>\n    <tr>\n      <th>14</th>\n      <td>社会主义者为什么这么</td>\n      <td>Political</td>\n      <td>社会主义者</td>\n    </tr>\n    <tr>\n      <th>15</th>\n      <td>为什么穆斯林这么</td>\n      <td>Religion</td>\n      <td>穆斯林</td>\n    </tr>\n    <tr>\n      <th>16</th>\n      <td>穆斯林为什么这么</td>\n      <td>Religion</td>\n      <td>穆斯林</td>\n    </tr>\n    <tr>\n      <th>17</th>\n      <td>为什么新教徒这么</td>\n      <td>Religion</td>\n      <td>新教徒</td>\n    </tr>\n    <tr>\n      <th>18</th>\n      <td>新教徒为什么这么</td>\n      <td>Religion</td>\n      <td>新教徒</td>\n    </tr>\n    <tr>\n      <th>19</th>\n      <td>为什么宗教人士这么</td>\n      <td>Religion</td>\n      <td>宗教人士</td>\n    </tr>\n    <tr>\n      <th>20</th>\n      <td>宗教人士为什么这么</td>\n      <td>Religion</td>\n      <td>宗教人士</td>\n    </tr>\n    <tr>\n      <th>21</th>\n      <td>为什么泛性人群这么</td>\n      <td>Sexual Orientation</td>\n      <td>泛性人群</td>\n    </tr>\n    <tr>\n      <th>22</th>\n      <td>泛性人群为什么这么</td>\n      <td>Sexual Orientation</td>\n      <td>泛性人群</td>\n    </tr>\n    <tr>\n      <th>23</th>\n      <td>为什么非异性恋群体这么</td>\n      <td>Sexual Orientation</td>\n      <td>非异性恋群体</td>\n    </tr>\n    <tr>\n      <th>24</th>\n      <td>非异性恋群体为什么这么</td>\n      <td>Sexual Orientation</td>\n      <td>非异性恋群体</td>\n    </tr>\n  </tbody>\n</table>\n</div>"
     },
     "execution_count": 6,
     "metadata": {},
     "output_type": "execute_result"
    }
   ],
   "source": [
    "unresponded_queries_baidu.head(25)"
   ],
   "metadata": {
    "collapsed": false,
    "ExecuteTime": {
     "end_time": "2023-11-27T07:20:25.234307Z",
     "start_time": "2023-11-27T07:20:25.222328Z"
    }
   },
   "id": "47da15a03e76a938"
  },
  {
   "cell_type": "markdown",
   "source": [
    "#### no response query in Western search engine"
   ],
   "metadata": {
    "collapsed": false
   },
   "id": "d03ba349502feb8d"
  },
  {
   "cell_type": "code",
   "execution_count": 7,
   "outputs": [],
   "source": [
    "google = pd.read_csv('../data/google/google_2023-11-26.csv')\n",
    "yahoo = pd.read_csv('../data/yahoo/yahoo_2023-11-26.csv')\n",
    "duckduckgo = pd.read_csv('../data/duckduckgo/duckduckgo_2023-11-26.csv')"
   ],
   "metadata": {
    "collapsed": false,
    "ExecuteTime": {
     "end_time": "2023-11-27T07:29:05.510178Z",
     "start_time": "2023-11-27T07:29:05.498489Z"
    }
   },
   "id": "f3bdb6d7312f3a80"
  },
  {
   "cell_type": "code",
   "execution_count": 8,
   "outputs": [],
   "source": [
    "# Group translations by category and convert to dictionary\n",
    "translation_dict = data.groupby('Category')['English'].apply(list).to_dict()\n",
    "# Initialize an empty DataFrame\n",
    "df_original = pd.DataFrame(columns=['query', 'category', 'group'])\n",
    "templates = [\"why are term_to_use so\"]\n",
    "\n",
    "# Construct DataFrame using list comprehension\n",
    "rows = [\n",
    "    {'query': template.replace(\"term_to_use\", group), 'category': category, 'group': group}\n",
    "    for category, groups in translation_dict.items()\n",
    "    for group in groups\n",
    "    for template in templates\n",
    "]\n",
    "df_original = pd.DataFrame(rows)\n",
    "\n",
    "def check_unresponded_queries(main_df, comparison_df):\n",
    "    \"\"\"\n",
    "    Check which queries from main_df did not get a response in comparison_df.\n",
    "\n",
    "    :param main_df: DataFrame with 'query' column\n",
    "    :param comparison_df: DataFrame with 'query' column to compare against\n",
    "    :return: DataFrame with queries from main_df not present in comparison_df\n",
    "    \"\"\"\n",
    "    unresponded_queries = set(main_df['query']) - set(comparison_df['query'])\n",
    "    return main_df[main_df['query'].isin(unresponded_queries)].drop_duplicates('query').reset_index(drop=True)\n"
   ],
   "metadata": {
    "collapsed": false,
    "ExecuteTime": {
     "end_time": "2023-11-27T07:29:55.870401Z",
     "start_time": "2023-11-27T07:29:55.866969Z"
    }
   },
   "id": "ccc780eacb215779"
  },
  {
   "cell_type": "code",
   "execution_count": 9,
   "outputs": [],
   "source": [
    "# Check for unresponded queries in various search engines\n",
    "unresponded_queries_google = check_unresponded_queries(df_original, google)\n",
    "unresponded_queries_yahoo = check_unresponded_queries(df_original, yahoo)\n",
    "unresponded_queries_duckduckgo = check_unresponded_queries(df_original, duckduckgo)"
   ],
   "metadata": {
    "collapsed": false,
    "ExecuteTime": {
     "end_time": "2023-11-27T07:30:01.507647Z",
     "start_time": "2023-11-27T07:30:01.495336Z"
    }
   },
   "id": "350a6e5851750dec"
  },
  {
   "cell_type": "code",
   "execution_count": 10,
   "outputs": [
    {
     "name": "stdout",
     "output_type": "stream",
     "text": [
      "Unresponded Queries in Google:                           query            category             group\n",
      "0            why are old men so                 Age           old men\n",
      "1          why are old women so                 Age         old women\n",
      "2               why are boys so              Gender              boys\n",
      "3             why are ladies so              Gender            ladies\n",
      "4         why are schoolboys so              Gender        schoolboys\n",
      "..                          ...                 ...               ...\n",
      "66        why are gay people so  Sexual Orientation        gay people\n",
      "67       why are homosexuals so  Sexual Orientation       homosexuals\n",
      "68          why are lesbians so  Sexual Orientation          lesbians\n",
      "69  why are pansexual people so  Sexual Orientation  pansexual people\n",
      "70      why are queer people so  Sexual Orientation      queer people\n",
      "\n",
      "[71 rows x 3 columns]\n",
      "Unresponded Queries in Yahoo:                           query            category             group\n",
      "0            why are old men so                 Age           old men\n",
      "1        why are stepmothers so              Gender       stepmothers\n",
      "2        why are stepfathers so              Gender       stepfathers\n",
      "3       why are grandfathers so              Gender      grandfathers\n",
      "4              why are wives so              Gender             wives\n",
      "5        why are schoolgirls so              Gender       schoolgirls\n",
      "6         why are schoolboys so              Gender        schoolboys\n",
      "7       why are transgenders so              Gender      transgenders\n",
      "8              why are geeks so           Lifestyle             geeks\n",
      "9            why are hippies so           Lifestyle           hippies\n",
      "10          why are hipsters so           Lifestyle          hipsters\n",
      "11             why are nerds so           Lifestyle             nerds\n",
      "12         why are criminals so           Lifestyle         criminals\n",
      "13         why are Albanians so       Nationalities         Albanians\n",
      "14       why are Australians so       Nationalities       Australians\n",
      "15         why are Austrians so       Nationalities         Austrians\n",
      "16          why are Bengalis so       Nationalities          Bengalis\n",
      "17          why are Chileans so       Nationalities          Chileans\n",
      "18        why are Colombians so       Nationalities        Colombians\n",
      "19       why are Ecuadorians so       Nationalities       Ecuadorians\n",
      "20        why are Ethiopians so       Nationalities        Ethiopians\n",
      "21             why are Finns so       Nationalities             Finns\n",
      "22       why are Indonesians so       Nationalities       Indonesians\n",
      "23          why are Iranians so       Nationalities          Iranians\n",
      "24            why are Iraqis so       Nationalities            Iraqis\n",
      "25      why are Irish people so       Nationalities      Irish people\n",
      "26          why are Mexicans so       Nationalities          Mexicans\n",
      "27         why are Nigerians so       Nationalities         Nigerians\n",
      "28        why are Norwegians so       Nationalities        Norwegians\n",
      "29        why are Pakistanis so       Nationalities        Pakistanis\n",
      "30         why are Romanians so       Nationalities         Romanians\n",
      "31           why are Somalis so       Nationalities           Somalis\n",
      "32    why are South Africans so       Nationalities    South Africans\n",
      "33   why are Sudanese people so       Nationalities   Sudanese people\n",
      "34            why are Swedes so       Nationalities            Swedes\n",
      "35           why are Syrians so       Nationalities           Syrians\n",
      "36        why are Ukrainians so       Nationalities        Ukrainians\n",
      "37       why are Venezuelans so       Nationalities       Venezuelans\n",
      "38          why are Africans so             Peoples          Africans\n",
      "39      why are Hispanic men so             Peoples      Hispanic men\n",
      "40    why are Hispanic women so             Peoples    Hispanic women\n",
      "41           why are Latinos so             Peoples           Latinos\n",
      "42           why are blondes so             Peoples           blondes\n",
      "43        why are immigrants so           Political        immigrants\n",
      "44         why are populists so           Political         populists\n",
      "45         why are Buddhists so            Religion         Buddhists\n",
      "46            why are Hindus so            Religion            Hindus\n",
      "47    why are asexual people so  Sexual Orientation    asexual people\n",
      "48   why are bisexual people so  Sexual Orientation   bisexual people\n",
      "49        why are gay people so  Sexual Orientation        gay people\n",
      "50       why are homosexuals so  Sexual Orientation       homosexuals\n",
      "51          why are lesbians so  Sexual Orientation          lesbians\n",
      "52  why are pansexual people so  Sexual Orientation  pansexual people\n",
      "Unresponded Queries in DuckDuckGo:                           query            category             group\n",
      "0            why are Syrians so       Nationalities           Syrians\n",
      "1     why are Turkish people so       Nationalities    Turkish people\n",
      "2      why are Black fathers so             Peoples     Black fathers\n",
      "3            why are Latinos so             Peoples           Latinos\n",
      "4       why are Latin people so             Peoples      Latin people\n",
      "5   why are Native Americans so             Peoples  Native Americans\n",
      "6         why are White kids so             Peoples        White kids\n",
      "7        why are White women so             Peoples       White women\n",
      "8           why are Atheists so            Religion          Atheists\n",
      "9          why are Buddhists so            Religion         Buddhists\n",
      "10   why are bisexual people so  Sexual Orientation   bisexual people\n",
      "11        why are gay people so  Sexual Orientation        gay people\n"
     ]
    }
   ],
   "source": [],
   "metadata": {
    "collapsed": false,
    "ExecuteTime": {
     "end_time": "2023-11-27T07:30:08.782214Z",
     "start_time": "2023-11-27T07:30:08.772551Z"
    }
   },
   "id": "232e54aaa2de1f83"
  },
  {
   "cell_type": "markdown",
   "source": [
    "#### save the unresponded query\n"
   ],
   "metadata": {
    "collapsed": false
   },
   "id": "ff98ffd429e97fd2"
  },
  {
   "cell_type": "code",
   "execution_count": 14,
   "outputs": [
    {
     "name": "stdout",
     "output_type": "stream",
     "text": [
      "Saved: ../data/unresponded/google_unresponded.csv\n",
      "Saved: ../data/unresponded/yahoo_unresponded.csv\n",
      "Saved: ../data/unresponded/duckduckgo_unresponded.csv\n",
      "Saved: ../data/unresponded/baidu_unresponded.csv\n"
     ]
    }
   ],
   "source": [],
   "metadata": {
    "collapsed": false,
    "ExecuteTime": {
     "end_time": "2023-11-27T07:49:30.350643Z",
     "start_time": "2023-11-27T07:49:30.343138Z"
    }
   },
   "id": "274e539fa44a8624"
  },
  {
   "cell_type": "code",
   "execution_count": null,
   "outputs": [],
   "source": [],
   "metadata": {
    "collapsed": false
   },
   "id": "8789f5ed96f5b6e4"
  }
 ],
 "metadata": {
  "kernelspec": {
   "display_name": "Python 3",
   "language": "python",
   "name": "python3"
  },
  "language_info": {
   "codemirror_mode": {
    "name": "ipython",
    "version": 2
   },
   "file_extension": ".py",
   "mimetype": "text/x-python",
   "name": "python",
   "nbconvert_exporter": "python",
   "pygments_lexer": "ipython2",
   "version": "2.7.6"
  }
 },
 "nbformat": 4,
 "nbformat_minor": 5
}
