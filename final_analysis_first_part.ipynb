{
 "cells": [
  {
   "cell_type": "markdown",
   "source": [
    "#### Task 1: Autocomplete Feature Analysis\n",
    "- Objective: Evaluate the presence and nature of autocomplete suggestions on search engines.\n",
    "- Actions:Check for Autocompletion:\n",
    "- Use both Google (in English and Chinese) and Baidu (in Chinese) to see if autocomplete suggestions appear as you type.\n",
    "- Analyze for Social Groups:\n",
    "- Assess if any autocomplete suggestions are related to specific social groups.\n",
    "- Relevance of Suggestions:\n",
    "- Determine whether the suggestions are relevant to the initial search query."
   ],
   "metadata": {
    "collapsed": false
   },
   "id": "bbf62a95f3d85bcc"
  },
  {
   "cell_type": "code",
   "execution_count": 1,
   "outputs": [],
   "source": [
    "### import packages import  pandas as pd\n",
    "import matplotlib.pyplot as plt\n",
    "import seaborn as sns\n",
    "import pandas as pd\n",
    "\n",
    "# read in the dictionary\n",
    "data = pd.read_csv('../data/Groups_finnaly.csv')\n",
    "baidu = pd.read_csv('../data/baidu/baidu_2023-11-27.csv')\n",
    "google = pd.read_csv('../data/google/google_2023-11-26.csv')\n",
    "# Check for Autocompletion:\n",
    "# check Assess if any autocomplete suggestions are related to specific social groups.\n",
    "# Determine whether the suggestions are relevant to the initial search query."
   ],
   "metadata": {
    "collapsed": false,
    "ExecuteTime": {
     "end_time": "2023-12-26T11:22:31.337979Z",
     "start_time": "2023-12-26T11:22:31.327242Z"
    }
   },
   "id": "d9e20642b5e8f5e2"
  },
  {
   "cell_type": "code",
   "execution_count": 3,
   "outputs": [
    {
     "data": {
      "text/plain": "category\nNationalities         812\nPeoples               526\nGender                418\nLifestyle             184\nAge                   140\nReligion              106\nPolitical             105\nSexual Orientation     40\nName: count, dtype: int64"
     },
     "execution_count": 3,
     "metadata": {},
     "output_type": "execute_result"
    }
   ],
   "source": [
    "baidu.category.value_counts()"
   ],
   "metadata": {
    "collapsed": false,
    "ExecuteTime": {
     "end_time": "2023-12-26T11:23:38.581158Z",
     "start_time": "2023-12-26T11:23:38.553507Z"
    }
   },
   "id": "e649a51b6e998b58"
  },
  {
   "cell_type": "code",
   "execution_count": 4,
   "outputs": [
    {
     "data": {
      "text/plain": "           query     suggestion            category  group     completion\n2291   为什么无性恋者这么       为什么会无性恋呢  Sexual Orientation   无性恋者       为什么会无性恋呢\n2292   为什么无性恋者这么      为什么会出现无性恋  Sexual Orientation   无性恋者      为什么会出现无性恋\n2293   为什么无性恋者这么      为什么会造成无性恋  Sexual Orientation   无性恋者      为什么会造成无性恋\n2294   为什么无性恋者这么      木柯为什么是无性恋  Sexual Orientation   无性恋者      木柯为什么是无性恋\n2295   为什么无性恋者这么      为什么有人是无性恋  Sexual Orientation   无性恋者      为什么有人是无性恋\n2296   为什么无性恋者这么     为什么会有无性恋倾向  Sexual Orientation   无性恋者     为什么会有无性恋倾向\n2297   为什么无性恋者这么      无性恋为什么要结婚  Sexual Orientation   无性恋者      无性恋为什么要结婚\n2298   无性恋者为什么这么      无性恋为什么要结婚  Sexual Orientation   无性恋者      无性恋为什么要结婚\n2299   无性恋者为什么这么       为什么会无性恋呢  Sexual Orientation   无性恋者       为什么会无性恋呢\n2300   无性恋者为什么这么      为什么会出现无性恋  Sexual Orientation   无性恋者      为什么会出现无性恋\n2301   无性恋者为什么这么      为什么会造成无性恋  Sexual Orientation   无性恋者      为什么会造成无性恋\n2302   无性恋者为什么这么      木柯为什么是无性恋  Sexual Orientation   无性恋者      木柯为什么是无性恋\n2303   无性恋者为什么这么      为什么有人是无性恋  Sexual Orientation   无性恋者      为什么有人是无性恋\n2304   无性恋者为什么这么     为什么会有无性恋倾向  Sexual Orientation   无性恋者     为什么会有无性恋倾向\n2305   为什么双性恋者这么       为什么我是双性恋  Sexual Orientation   双性恋者       为什么我是双性恋\n2306   为什么双性恋者这么      为什么不能谈双性恋  Sexual Orientation   双性恋者      为什么不能谈双性恋\n2307   双性恋者为什么这么       为什么我是双性恋  Sexual Orientation   双性恋者       为什么我是双性恋\n2308   双性恋者为什么这么      为什么不能谈双性恋  Sexual Orientation   双性恋者      为什么不能谈双性恋\n2309  为什么男同性恋者这么     女人为什么有同性恋者  Sexual Orientation  男同性恋者     女人为什么有同性恋者\n2310  为什么男同性恋者这么   为什么同性恋者直肠会出来  Sexual Orientation  男同性恋者   为什么同性恋者直肠会出来\n2311  为什么男同性恋者这么    同性恋者为什么不能献血  Sexual Orientation  男同性恋者    同性恋者为什么不能献血\n2312  男同性恋者为什么这么    同性恋者为什么不能献血  Sexual Orientation  男同性恋者    同性恋者为什么不能献血\n2313  男同性恋者为什么这么     女人为什么有同性恋者  Sexual Orientation  男同性恋者     女人为什么有同性恋者\n2314  男同性恋者为什么这么   为什么同性恋者直肠会出来  Sexual Orientation  男同性恋者   为什么同性恋者直肠会出来\n2315   为什么同性恋者这么     女人为什么有同性恋者  Sexual Orientation   同性恋者     女人为什么有同性恋者\n2316   为什么同性恋者这么   为什么同性恋者直肠会出来  Sexual Orientation   同性恋者   为什么同性恋者直肠会出来\n2317   为什么同性恋者这么    同性恋者为什么不能献血  Sexual Orientation   同性恋者    同性恋者为什么不能献血\n2318   同性恋者为什么这么    同性恋者为什么不能献血  Sexual Orientation   同性恋者    同性恋者为什么不能献血\n2319   同性恋者为什么这么     女人为什么有同性恋者  Sexual Orientation   同性恋者     女人为什么有同性恋者\n2320   同性恋者为什么这么   为什么同性恋者直肠会出来  Sexual Orientation   同性恋者   为什么同性恋者直肠会出来\n2321   为什么女同性恋这么     成都为什么女同性恋多  Sexual Orientation   女同性恋     成都为什么女同性恋多\n2322   为什么女同性恋这么   为什么女同性恋执着于上下  Sexual Orientation   女同性恋   为什么女同性恋执着于上下\n2323   为什么女同性恋这么      女同性恋为什么百合  Sexual Orientation   女同性恋      女同性恋为什么百合\n2324   为什么女同性恋这么     女同性恋为什么会产生  Sexual Orientation   女同性恋     女同性恋为什么会产生\n2325   为什么女同性恋这么  网络上女同性恋为什么那么多  Sexual Orientation   女同性恋  网络上女同性恋为什么那么多\n2326   女同性恋为什么这么      女同性恋为什么百合  Sexual Orientation   女同性恋      女同性恋为什么百合\n2327   女同性恋为什么这么  网络上女同性恋为什么那么多  Sexual Orientation   女同性恋  网络上女同性恋为什么那么多\n2328   女同性恋为什么这么     女同性恋为什么会产生  Sexual Orientation   女同性恋     女同性恋为什么会产生\n2329   女同性恋为什么这么     成都为什么女同性恋多  Sexual Orientation   女同性恋     成都为什么女同性恋多\n2330   女同性恋为什么这么   为什么女同性恋执着于上下  Sexual Orientation   女同性恋   为什么女同性恋执着于上下",
      "text/html": "<div>\n<style scoped>\n    .dataframe tbody tr th:only-of-type {\n        vertical-align: middle;\n    }\n\n    .dataframe tbody tr th {\n        vertical-align: top;\n    }\n\n    .dataframe thead th {\n        text-align: right;\n    }\n</style>\n<table border=\"1\" class=\"dataframe\">\n  <thead>\n    <tr style=\"text-align: right;\">\n      <th></th>\n      <th>query</th>\n      <th>suggestion</th>\n      <th>category</th>\n      <th>group</th>\n      <th>completion</th>\n    </tr>\n  </thead>\n  <tbody>\n    <tr>\n      <th>2291</th>\n      <td>为什么无性恋者这么</td>\n      <td>为什么会无性恋呢</td>\n      <td>Sexual Orientation</td>\n      <td>无性恋者</td>\n      <td>为什么会无性恋呢</td>\n    </tr>\n    <tr>\n      <th>2292</th>\n      <td>为什么无性恋者这么</td>\n      <td>为什么会出现无性恋</td>\n      <td>Sexual Orientation</td>\n      <td>无性恋者</td>\n      <td>为什么会出现无性恋</td>\n    </tr>\n    <tr>\n      <th>2293</th>\n      <td>为什么无性恋者这么</td>\n      <td>为什么会造成无性恋</td>\n      <td>Sexual Orientation</td>\n      <td>无性恋者</td>\n      <td>为什么会造成无性恋</td>\n    </tr>\n    <tr>\n      <th>2294</th>\n      <td>为什么无性恋者这么</td>\n      <td>木柯为什么是无性恋</td>\n      <td>Sexual Orientation</td>\n      <td>无性恋者</td>\n      <td>木柯为什么是无性恋</td>\n    </tr>\n    <tr>\n      <th>2295</th>\n      <td>为什么无性恋者这么</td>\n      <td>为什么有人是无性恋</td>\n      <td>Sexual Orientation</td>\n      <td>无性恋者</td>\n      <td>为什么有人是无性恋</td>\n    </tr>\n    <tr>\n      <th>2296</th>\n      <td>为什么无性恋者这么</td>\n      <td>为什么会有无性恋倾向</td>\n      <td>Sexual Orientation</td>\n      <td>无性恋者</td>\n      <td>为什么会有无性恋倾向</td>\n    </tr>\n    <tr>\n      <th>2297</th>\n      <td>为什么无性恋者这么</td>\n      <td>无性恋为什么要结婚</td>\n      <td>Sexual Orientation</td>\n      <td>无性恋者</td>\n      <td>无性恋为什么要结婚</td>\n    </tr>\n    <tr>\n      <th>2298</th>\n      <td>无性恋者为什么这么</td>\n      <td>无性恋为什么要结婚</td>\n      <td>Sexual Orientation</td>\n      <td>无性恋者</td>\n      <td>无性恋为什么要结婚</td>\n    </tr>\n    <tr>\n      <th>2299</th>\n      <td>无性恋者为什么这么</td>\n      <td>为什么会无性恋呢</td>\n      <td>Sexual Orientation</td>\n      <td>无性恋者</td>\n      <td>为什么会无性恋呢</td>\n    </tr>\n    <tr>\n      <th>2300</th>\n      <td>无性恋者为什么这么</td>\n      <td>为什么会出现无性恋</td>\n      <td>Sexual Orientation</td>\n      <td>无性恋者</td>\n      <td>为什么会出现无性恋</td>\n    </tr>\n    <tr>\n      <th>2301</th>\n      <td>无性恋者为什么这么</td>\n      <td>为什么会造成无性恋</td>\n      <td>Sexual Orientation</td>\n      <td>无性恋者</td>\n      <td>为什么会造成无性恋</td>\n    </tr>\n    <tr>\n      <th>2302</th>\n      <td>无性恋者为什么这么</td>\n      <td>木柯为什么是无性恋</td>\n      <td>Sexual Orientation</td>\n      <td>无性恋者</td>\n      <td>木柯为什么是无性恋</td>\n    </tr>\n    <tr>\n      <th>2303</th>\n      <td>无性恋者为什么这么</td>\n      <td>为什么有人是无性恋</td>\n      <td>Sexual Orientation</td>\n      <td>无性恋者</td>\n      <td>为什么有人是无性恋</td>\n    </tr>\n    <tr>\n      <th>2304</th>\n      <td>无性恋者为什么这么</td>\n      <td>为什么会有无性恋倾向</td>\n      <td>Sexual Orientation</td>\n      <td>无性恋者</td>\n      <td>为什么会有无性恋倾向</td>\n    </tr>\n    <tr>\n      <th>2305</th>\n      <td>为什么双性恋者这么</td>\n      <td>为什么我是双性恋</td>\n      <td>Sexual Orientation</td>\n      <td>双性恋者</td>\n      <td>为什么我是双性恋</td>\n    </tr>\n    <tr>\n      <th>2306</th>\n      <td>为什么双性恋者这么</td>\n      <td>为什么不能谈双性恋</td>\n      <td>Sexual Orientation</td>\n      <td>双性恋者</td>\n      <td>为什么不能谈双性恋</td>\n    </tr>\n    <tr>\n      <th>2307</th>\n      <td>双性恋者为什么这么</td>\n      <td>为什么我是双性恋</td>\n      <td>Sexual Orientation</td>\n      <td>双性恋者</td>\n      <td>为什么我是双性恋</td>\n    </tr>\n    <tr>\n      <th>2308</th>\n      <td>双性恋者为什么这么</td>\n      <td>为什么不能谈双性恋</td>\n      <td>Sexual Orientation</td>\n      <td>双性恋者</td>\n      <td>为什么不能谈双性恋</td>\n    </tr>\n    <tr>\n      <th>2309</th>\n      <td>为什么男同性恋者这么</td>\n      <td>女人为什么有同性恋者</td>\n      <td>Sexual Orientation</td>\n      <td>男同性恋者</td>\n      <td>女人为什么有同性恋者</td>\n    </tr>\n    <tr>\n      <th>2310</th>\n      <td>为什么男同性恋者这么</td>\n      <td>为什么同性恋者直肠会出来</td>\n      <td>Sexual Orientation</td>\n      <td>男同性恋者</td>\n      <td>为什么同性恋者直肠会出来</td>\n    </tr>\n    <tr>\n      <th>2311</th>\n      <td>为什么男同性恋者这么</td>\n      <td>同性恋者为什么不能献血</td>\n      <td>Sexual Orientation</td>\n      <td>男同性恋者</td>\n      <td>同性恋者为什么不能献血</td>\n    </tr>\n    <tr>\n      <th>2312</th>\n      <td>男同性恋者为什么这么</td>\n      <td>同性恋者为什么不能献血</td>\n      <td>Sexual Orientation</td>\n      <td>男同性恋者</td>\n      <td>同性恋者为什么不能献血</td>\n    </tr>\n    <tr>\n      <th>2313</th>\n      <td>男同性恋者为什么这么</td>\n      <td>女人为什么有同性恋者</td>\n      <td>Sexual Orientation</td>\n      <td>男同性恋者</td>\n      <td>女人为什么有同性恋者</td>\n    </tr>\n    <tr>\n      <th>2314</th>\n      <td>男同性恋者为什么这么</td>\n      <td>为什么同性恋者直肠会出来</td>\n      <td>Sexual Orientation</td>\n      <td>男同性恋者</td>\n      <td>为什么同性恋者直肠会出来</td>\n    </tr>\n    <tr>\n      <th>2315</th>\n      <td>为什么同性恋者这么</td>\n      <td>女人为什么有同性恋者</td>\n      <td>Sexual Orientation</td>\n      <td>同性恋者</td>\n      <td>女人为什么有同性恋者</td>\n    </tr>\n    <tr>\n      <th>2316</th>\n      <td>为什么同性恋者这么</td>\n      <td>为什么同性恋者直肠会出来</td>\n      <td>Sexual Orientation</td>\n      <td>同性恋者</td>\n      <td>为什么同性恋者直肠会出来</td>\n    </tr>\n    <tr>\n      <th>2317</th>\n      <td>为什么同性恋者这么</td>\n      <td>同性恋者为什么不能献血</td>\n      <td>Sexual Orientation</td>\n      <td>同性恋者</td>\n      <td>同性恋者为什么不能献血</td>\n    </tr>\n    <tr>\n      <th>2318</th>\n      <td>同性恋者为什么这么</td>\n      <td>同性恋者为什么不能献血</td>\n      <td>Sexual Orientation</td>\n      <td>同性恋者</td>\n      <td>同性恋者为什么不能献血</td>\n    </tr>\n    <tr>\n      <th>2319</th>\n      <td>同性恋者为什么这么</td>\n      <td>女人为什么有同性恋者</td>\n      <td>Sexual Orientation</td>\n      <td>同性恋者</td>\n      <td>女人为什么有同性恋者</td>\n    </tr>\n    <tr>\n      <th>2320</th>\n      <td>同性恋者为什么这么</td>\n      <td>为什么同性恋者直肠会出来</td>\n      <td>Sexual Orientation</td>\n      <td>同性恋者</td>\n      <td>为什么同性恋者直肠会出来</td>\n    </tr>\n    <tr>\n      <th>2321</th>\n      <td>为什么女同性恋这么</td>\n      <td>成都为什么女同性恋多</td>\n      <td>Sexual Orientation</td>\n      <td>女同性恋</td>\n      <td>成都为什么女同性恋多</td>\n    </tr>\n    <tr>\n      <th>2322</th>\n      <td>为什么女同性恋这么</td>\n      <td>为什么女同性恋执着于上下</td>\n      <td>Sexual Orientation</td>\n      <td>女同性恋</td>\n      <td>为什么女同性恋执着于上下</td>\n    </tr>\n    <tr>\n      <th>2323</th>\n      <td>为什么女同性恋这么</td>\n      <td>女同性恋为什么百合</td>\n      <td>Sexual Orientation</td>\n      <td>女同性恋</td>\n      <td>女同性恋为什么百合</td>\n    </tr>\n    <tr>\n      <th>2324</th>\n      <td>为什么女同性恋这么</td>\n      <td>女同性恋为什么会产生</td>\n      <td>Sexual Orientation</td>\n      <td>女同性恋</td>\n      <td>女同性恋为什么会产生</td>\n    </tr>\n    <tr>\n      <th>2325</th>\n      <td>为什么女同性恋这么</td>\n      <td>网络上女同性恋为什么那么多</td>\n      <td>Sexual Orientation</td>\n      <td>女同性恋</td>\n      <td>网络上女同性恋为什么那么多</td>\n    </tr>\n    <tr>\n      <th>2326</th>\n      <td>女同性恋为什么这么</td>\n      <td>女同性恋为什么百合</td>\n      <td>Sexual Orientation</td>\n      <td>女同性恋</td>\n      <td>女同性恋为什么百合</td>\n    </tr>\n    <tr>\n      <th>2327</th>\n      <td>女同性恋为什么这么</td>\n      <td>网络上女同性恋为什么那么多</td>\n      <td>Sexual Orientation</td>\n      <td>女同性恋</td>\n      <td>网络上女同性恋为什么那么多</td>\n    </tr>\n    <tr>\n      <th>2328</th>\n      <td>女同性恋为什么这么</td>\n      <td>女同性恋为什么会产生</td>\n      <td>Sexual Orientation</td>\n      <td>女同性恋</td>\n      <td>女同性恋为什么会产生</td>\n    </tr>\n    <tr>\n      <th>2329</th>\n      <td>女同性恋为什么这么</td>\n      <td>成都为什么女同性恋多</td>\n      <td>Sexual Orientation</td>\n      <td>女同性恋</td>\n      <td>成都为什么女同性恋多</td>\n    </tr>\n    <tr>\n      <th>2330</th>\n      <td>女同性恋为什么这么</td>\n      <td>为什么女同性恋执着于上下</td>\n      <td>Sexual Orientation</td>\n      <td>女同性恋</td>\n      <td>为什么女同性恋执着于上下</td>\n    </tr>\n  </tbody>\n</table>\n</div>"
     },
     "execution_count": 4,
     "metadata": {},
     "output_type": "execute_result"
    }
   ],
   "source": [
    "baidu[baidu[\"category\"] == 'Sexual Orientation']"
   ],
   "metadata": {
    "collapsed": false,
    "ExecuteTime": {
     "end_time": "2023-12-26T11:23:48.816288Z",
     "start_time": "2023-12-26T11:23:48.785802Z"
    }
   },
   "id": "b1542b56538750ae"
  },
  {
   "cell_type": "code",
   "execution_count": 180,
   "outputs": [],
   "source": [
    "# Merging the dataframes based on the 'Translation' in df_groups_finally_new and 'group' in df_baidu_new\n",
    "# Adding the 'English' column from df_groups_finally_new to df_baidu_new\n",
    "baidu = pd.merge(baidu, data, left_on='group', right_on='Translation', how='left')\n",
    "# Selecting the relevant columns, including the newly added 'English' column\n",
    "baidu = baidu[['query', 'suggestion', 'category', 'group', 'English','completion']]\n",
    "# Renaming the 'English' column to 'Group_English' as requested\n",
    "baidu = baidu.rename(columns={'English': 'group_English'})"
   ],
   "metadata": {
    "collapsed": false,
    "ExecuteTime": {
     "end_time": "2023-12-19T06:56:39.078483Z",
     "start_time": "2023-12-19T06:56:38.875431Z"
    }
   },
   "id": "72e8ba88b90c6374"
  },
  {
   "cell_type": "code",
   "execution_count": 181,
   "outputs": [
    {
     "data": {
      "text/plain": "          query     suggestion            category group group_English  \\\n0       为什么儿童这么     为什么儿童这么多哮喘                 Age    儿童      children   \n1       为什么儿童这么    为什么儿童这么多白血病                 Age    儿童      children   \n2       为什么儿童这么   为什么儿童这么多罕见病呢                 Age    儿童      children   \n3       为什么儿童这么     为什么儿童这么爱出汗                 Age    儿童      children   \n4       为什么儿童这么     儿童为什么说话这么晚                 Age    儿童      children   \n...         ...            ...                 ...   ...           ...   \n2326  女同性恋为什么这么      女同性恋为什么百合  Sexual Orientation  女同性恋      lesbians   \n2327  女同性恋为什么这么  网络上女同性恋为什么那么多  Sexual Orientation  女同性恋      lesbians   \n2328  女同性恋为什么这么     女同性恋为什么会产生  Sexual Orientation  女同性恋      lesbians   \n2329  女同性恋为什么这么     成都为什么女同性恋多  Sexual Orientation  女同性恋      lesbians   \n2330  女同性恋为什么这么   为什么女同性恋执着于上下  Sexual Orientation  女同性恋      lesbians   \n\n         completion  \n0               多哮喘  \n1              多白血病  \n2             多罕见病呢  \n3               爱出汗  \n4        儿童为什么说话这么晚  \n...             ...  \n2326      女同性恋为什么百合  \n2327  网络上女同性恋为什么那么多  \n2328     女同性恋为什么会产生  \n2329     成都为什么女同性恋多  \n2330   为什么女同性恋执着于上下  \n\n[2331 rows x 6 columns]",
      "text/html": "<div>\n<style scoped>\n    .dataframe tbody tr th:only-of-type {\n        vertical-align: middle;\n    }\n\n    .dataframe tbody tr th {\n        vertical-align: top;\n    }\n\n    .dataframe thead th {\n        text-align: right;\n    }\n</style>\n<table border=\"1\" class=\"dataframe\">\n  <thead>\n    <tr style=\"text-align: right;\">\n      <th></th>\n      <th>query</th>\n      <th>suggestion</th>\n      <th>category</th>\n      <th>group</th>\n      <th>group_English</th>\n      <th>completion</th>\n    </tr>\n  </thead>\n  <tbody>\n    <tr>\n      <th>0</th>\n      <td>为什么儿童这么</td>\n      <td>为什么儿童这么多哮喘</td>\n      <td>Age</td>\n      <td>儿童</td>\n      <td>children</td>\n      <td>多哮喘</td>\n    </tr>\n    <tr>\n      <th>1</th>\n      <td>为什么儿童这么</td>\n      <td>为什么儿童这么多白血病</td>\n      <td>Age</td>\n      <td>儿童</td>\n      <td>children</td>\n      <td>多白血病</td>\n    </tr>\n    <tr>\n      <th>2</th>\n      <td>为什么儿童这么</td>\n      <td>为什么儿童这么多罕见病呢</td>\n      <td>Age</td>\n      <td>儿童</td>\n      <td>children</td>\n      <td>多罕见病呢</td>\n    </tr>\n    <tr>\n      <th>3</th>\n      <td>为什么儿童这么</td>\n      <td>为什么儿童这么爱出汗</td>\n      <td>Age</td>\n      <td>儿童</td>\n      <td>children</td>\n      <td>爱出汗</td>\n    </tr>\n    <tr>\n      <th>4</th>\n      <td>为什么儿童这么</td>\n      <td>儿童为什么说话这么晚</td>\n      <td>Age</td>\n      <td>儿童</td>\n      <td>children</td>\n      <td>儿童为什么说话这么晚</td>\n    </tr>\n    <tr>\n      <th>...</th>\n      <td>...</td>\n      <td>...</td>\n      <td>...</td>\n      <td>...</td>\n      <td>...</td>\n      <td>...</td>\n    </tr>\n    <tr>\n      <th>2326</th>\n      <td>女同性恋为什么这么</td>\n      <td>女同性恋为什么百合</td>\n      <td>Sexual Orientation</td>\n      <td>女同性恋</td>\n      <td>lesbians</td>\n      <td>女同性恋为什么百合</td>\n    </tr>\n    <tr>\n      <th>2327</th>\n      <td>女同性恋为什么这么</td>\n      <td>网络上女同性恋为什么那么多</td>\n      <td>Sexual Orientation</td>\n      <td>女同性恋</td>\n      <td>lesbians</td>\n      <td>网络上女同性恋为什么那么多</td>\n    </tr>\n    <tr>\n      <th>2328</th>\n      <td>女同性恋为什么这么</td>\n      <td>女同性恋为什么会产生</td>\n      <td>Sexual Orientation</td>\n      <td>女同性恋</td>\n      <td>lesbians</td>\n      <td>女同性恋为什么会产生</td>\n    </tr>\n    <tr>\n      <th>2329</th>\n      <td>女同性恋为什么这么</td>\n      <td>成都为什么女同性恋多</td>\n      <td>Sexual Orientation</td>\n      <td>女同性恋</td>\n      <td>lesbians</td>\n      <td>成都为什么女同性恋多</td>\n    </tr>\n    <tr>\n      <th>2330</th>\n      <td>女同性恋为什么这么</td>\n      <td>为什么女同性恋执着于上下</td>\n      <td>Sexual Orientation</td>\n      <td>女同性恋</td>\n      <td>lesbians</td>\n      <td>为什么女同性恋执着于上下</td>\n    </tr>\n  </tbody>\n</table>\n<p>2331 rows × 6 columns</p>\n</div>"
     },
     "execution_count": 181,
     "metadata": {},
     "output_type": "execute_result"
    }
   ],
   "source": [
    "baidu\n"
   ],
   "metadata": {
    "collapsed": false,
    "ExecuteTime": {
     "end_time": "2023-12-19T06:56:39.243181Z",
     "start_time": "2023-12-19T06:56:38.882721Z"
    }
   },
   "id": "8c8d109ced279042"
  },
  {
   "cell_type": "code",
   "execution_count": 182,
   "outputs": [],
   "source": [
    "def check_suggestion_starts_with_query(row):\n",
    "    query = row['query']\n",
    "    suggestion = row['suggestion']\n",
    "    return suggestion.startswith(query)\n",
    "\n",
    "# Apply the function to each row in the DataFrame\n",
    "baidu['suggestion_starts_with_query'] = baidu.apply(check_suggestion_starts_with_query, axis=1)"
   ],
   "metadata": {
    "collapsed": false,
    "ExecuteTime": {
     "end_time": "2023-12-19T06:56:39.466063Z",
     "start_time": "2023-12-19T06:56:38.894329Z"
    }
   },
   "id": "7698d49d0dcd55f0"
  },
  {
   "cell_type": "code",
   "execution_count": null,
   "outputs": [],
   "source": [
    "\n",
    "\n",
    "\n",
    "# Assess if any autocomplete suggestions are related to specific social groups.\n",
    "# Function to check if 'suggestion' contains 'group'\n",
    "def contains_group(row):\n",
    "    return row['group'] in row['suggestion']\n",
    "\n",
    "\n",
    "# Apply the function to each row and create a new column\n",
    "baidu['group_in_suggestion'] = baidu.apply(contains_group, axis=1)"
   ],
   "metadata": {
    "collapsed": false
   },
   "id": "58661fc751c8a082"
  },
  {
   "cell_type": "code",
   "execution_count": 183,
   "outputs": [
    {
     "data": {
      "text/plain": "         query    suggestion  category group group_English completion  \\\n0      为什么儿童这么    为什么儿童这么多哮喘       Age    儿童      children        多哮喘   \n1      为什么儿童这么   为什么儿童这么多白血病       Age    儿童      children       多白血病   \n2      为什么儿童这么  为什么儿童这么多罕见病呢       Age    儿童      children      多罕见病呢   \n3      为什么儿童这么    为什么儿童这么爱出汗       Age    儿童      children        爱出汗   \n10     儿童为什么这么      儿童为什么这么黑       Age    儿童      children          黑   \n...        ...           ...       ...   ...           ...        ...   \n2270  犹太人为什么这么    犹太人为什么这么残忍  Religion   犹太人          Jews         残忍   \n2271  犹太人为什么这么    犹太人为什么这么嚣张  Religion   犹太人          Jews         嚣张   \n2272  犹太人为什么这么     犹太人为什么这么少  Religion   犹太人          Jews          少   \n2273  犹太人为什么这么  犹太人为什么这么恨耶稣?  Religion   犹太人          Jews       恨耶稣?   \n2274  犹太人为什么这么    犹太人为什么这么可恶  Religion   犹太人          Jews         可恶   \n\n      suggestion_starts_with_query  \n0                             True  \n1                             True  \n2                             True  \n3                             True  \n10                            True  \n...                            ...  \n2270                          True  \n2271                          True  \n2272                          True  \n2273                          True  \n2274                          True  \n\n[821 rows x 7 columns]",
      "text/html": "<div>\n<style scoped>\n    .dataframe tbody tr th:only-of-type {\n        vertical-align: middle;\n    }\n\n    .dataframe tbody tr th {\n        vertical-align: top;\n    }\n\n    .dataframe thead th {\n        text-align: right;\n    }\n</style>\n<table border=\"1\" class=\"dataframe\">\n  <thead>\n    <tr style=\"text-align: right;\">\n      <th></th>\n      <th>query</th>\n      <th>suggestion</th>\n      <th>category</th>\n      <th>group</th>\n      <th>group_English</th>\n      <th>completion</th>\n      <th>suggestion_starts_with_query</th>\n    </tr>\n  </thead>\n  <tbody>\n    <tr>\n      <th>0</th>\n      <td>为什么儿童这么</td>\n      <td>为什么儿童这么多哮喘</td>\n      <td>Age</td>\n      <td>儿童</td>\n      <td>children</td>\n      <td>多哮喘</td>\n      <td>True</td>\n    </tr>\n    <tr>\n      <th>1</th>\n      <td>为什么儿童这么</td>\n      <td>为什么儿童这么多白血病</td>\n      <td>Age</td>\n      <td>儿童</td>\n      <td>children</td>\n      <td>多白血病</td>\n      <td>True</td>\n    </tr>\n    <tr>\n      <th>2</th>\n      <td>为什么儿童这么</td>\n      <td>为什么儿童这么多罕见病呢</td>\n      <td>Age</td>\n      <td>儿童</td>\n      <td>children</td>\n      <td>多罕见病呢</td>\n      <td>True</td>\n    </tr>\n    <tr>\n      <th>3</th>\n      <td>为什么儿童这么</td>\n      <td>为什么儿童这么爱出汗</td>\n      <td>Age</td>\n      <td>儿童</td>\n      <td>children</td>\n      <td>爱出汗</td>\n      <td>True</td>\n    </tr>\n    <tr>\n      <th>10</th>\n      <td>儿童为什么这么</td>\n      <td>儿童为什么这么黑</td>\n      <td>Age</td>\n      <td>儿童</td>\n      <td>children</td>\n      <td>黑</td>\n      <td>True</td>\n    </tr>\n    <tr>\n      <th>...</th>\n      <td>...</td>\n      <td>...</td>\n      <td>...</td>\n      <td>...</td>\n      <td>...</td>\n      <td>...</td>\n      <td>...</td>\n    </tr>\n    <tr>\n      <th>2270</th>\n      <td>犹太人为什么这么</td>\n      <td>犹太人为什么这么残忍</td>\n      <td>Religion</td>\n      <td>犹太人</td>\n      <td>Jews</td>\n      <td>残忍</td>\n      <td>True</td>\n    </tr>\n    <tr>\n      <th>2271</th>\n      <td>犹太人为什么这么</td>\n      <td>犹太人为什么这么嚣张</td>\n      <td>Religion</td>\n      <td>犹太人</td>\n      <td>Jews</td>\n      <td>嚣张</td>\n      <td>True</td>\n    </tr>\n    <tr>\n      <th>2272</th>\n      <td>犹太人为什么这么</td>\n      <td>犹太人为什么这么少</td>\n      <td>Religion</td>\n      <td>犹太人</td>\n      <td>Jews</td>\n      <td>少</td>\n      <td>True</td>\n    </tr>\n    <tr>\n      <th>2273</th>\n      <td>犹太人为什么这么</td>\n      <td>犹太人为什么这么恨耶稣?</td>\n      <td>Religion</td>\n      <td>犹太人</td>\n      <td>Jews</td>\n      <td>恨耶稣?</td>\n      <td>True</td>\n    </tr>\n    <tr>\n      <th>2274</th>\n      <td>犹太人为什么这么</td>\n      <td>犹太人为什么这么可恶</td>\n      <td>Religion</td>\n      <td>犹太人</td>\n      <td>Jews</td>\n      <td>可恶</td>\n      <td>True</td>\n    </tr>\n  </tbody>\n</table>\n<p>821 rows × 7 columns</p>\n</div>"
     },
     "execution_count": 183,
     "metadata": {},
     "output_type": "execute_result"
    }
   ],
   "source": [
    "baidu[baidu[\"suggestion_starts_with_query\"] == True]"
   ],
   "metadata": {
    "collapsed": false,
    "ExecuteTime": {
     "end_time": "2023-12-19T06:56:39.466925Z",
     "start_time": "2023-12-19T06:56:38.897693Z"
    }
   },
   "id": "203f41c1dffa4d9b"
  },
  {
   "cell_type": "code",
   "execution_count": 184,
   "outputs": [],
   "source": [
    "# Assess if any autocomplete suggestions are related to specific social groups.\n",
    "# Function to check if 'suggestion' contains 'group'\n",
    "def contains_group(row):\n",
    "    return row['group'] in row['suggestion']\n",
    "# Apply the function to each row and create a new column\n",
    "baidu['group_in_suggestion'] = baidu.apply(contains_group, axis=1)"
   ],
   "metadata": {
    "collapsed": false,
    "ExecuteTime": {
     "end_time": "2023-12-19T06:56:39.484154Z",
     "start_time": "2023-12-19T06:56:38.912226Z"
    }
   },
   "id": "1590ea74fd5bdbbf"
  },
  {
   "cell_type": "code",
   "execution_count": 184,
   "outputs": [],
   "source": [],
   "metadata": {
    "collapsed": false,
    "ExecuteTime": {
     "end_time": "2023-12-19T06:56:39.484444Z",
     "start_time": "2023-12-19T06:56:38.914451Z"
    }
   },
   "id": "2ec0ac3becf1568a"
  },
  {
   "cell_type": "code",
   "execution_count": 185,
   "outputs": [],
   "source": [
    "# Combine Baidu Template 1 and 2 and remove duplicates based on 'group'\n",
    "# Removing duplicate 'completion' within each 'group'\n",
    "combined_baidu = baidu.drop_duplicates(subset=['group', 'completion'])"
   ],
   "metadata": {
    "collapsed": false,
    "ExecuteTime": {
     "end_time": "2023-12-19T06:56:39.485332Z",
     "start_time": "2023-12-19T06:56:38.916826Z"
    }
   },
   "id": "df926b78d3bfbe03"
  },
  {
   "cell_type": "code",
   "execution_count": 186,
   "outputs": [
    {
     "data": {
      "text/plain": "          query     suggestion            category group group_English  \\\n0       为什么儿童这么     为什么儿童这么多哮喘                 Age    儿童      children   \n1       为什么儿童这么    为什么儿童这么多白血病                 Age    儿童      children   \n2       为什么儿童这么   为什么儿童这么多罕见病呢                 Age    儿童      children   \n3       为什么儿童这么     为什么儿童这么爱出汗                 Age    儿童      children   \n4       为什么儿童这么     儿童为什么说话这么晚                 Age    儿童      children   \n...         ...            ...                 ...   ...           ...   \n2321  为什么女同性恋这么     成都为什么女同性恋多  Sexual Orientation  女同性恋      lesbians   \n2322  为什么女同性恋这么   为什么女同性恋执着于上下  Sexual Orientation  女同性恋      lesbians   \n2323  为什么女同性恋这么      女同性恋为什么百合  Sexual Orientation  女同性恋      lesbians   \n2324  为什么女同性恋这么     女同性恋为什么会产生  Sexual Orientation  女同性恋      lesbians   \n2325  为什么女同性恋这么  网络上女同性恋为什么那么多  Sexual Orientation  女同性恋      lesbians   \n\n         completion  suggestion_starts_with_query  group_in_suggestion  \n0               多哮喘                          True                 True  \n1              多白血病                          True                 True  \n2             多罕见病呢                          True                 True  \n3               爱出汗                          True                 True  \n4        儿童为什么说话这么晚                         False                 True  \n...             ...                           ...                  ...  \n2321     成都为什么女同性恋多                         False                 True  \n2322   为什么女同性恋执着于上下                         False                 True  \n2323      女同性恋为什么百合                         False                 True  \n2324     女同性恋为什么会产生                         False                 True  \n2325  网络上女同性恋为什么那么多                         False                 True  \n\n[1646 rows x 8 columns]",
      "text/html": "<div>\n<style scoped>\n    .dataframe tbody tr th:only-of-type {\n        vertical-align: middle;\n    }\n\n    .dataframe tbody tr th {\n        vertical-align: top;\n    }\n\n    .dataframe thead th {\n        text-align: right;\n    }\n</style>\n<table border=\"1\" class=\"dataframe\">\n  <thead>\n    <tr style=\"text-align: right;\">\n      <th></th>\n      <th>query</th>\n      <th>suggestion</th>\n      <th>category</th>\n      <th>group</th>\n      <th>group_English</th>\n      <th>completion</th>\n      <th>suggestion_starts_with_query</th>\n      <th>group_in_suggestion</th>\n    </tr>\n  </thead>\n  <tbody>\n    <tr>\n      <th>0</th>\n      <td>为什么儿童这么</td>\n      <td>为什么儿童这么多哮喘</td>\n      <td>Age</td>\n      <td>儿童</td>\n      <td>children</td>\n      <td>多哮喘</td>\n      <td>True</td>\n      <td>True</td>\n    </tr>\n    <tr>\n      <th>1</th>\n      <td>为什么儿童这么</td>\n      <td>为什么儿童这么多白血病</td>\n      <td>Age</td>\n      <td>儿童</td>\n      <td>children</td>\n      <td>多白血病</td>\n      <td>True</td>\n      <td>True</td>\n    </tr>\n    <tr>\n      <th>2</th>\n      <td>为什么儿童这么</td>\n      <td>为什么儿童这么多罕见病呢</td>\n      <td>Age</td>\n      <td>儿童</td>\n      <td>children</td>\n      <td>多罕见病呢</td>\n      <td>True</td>\n      <td>True</td>\n    </tr>\n    <tr>\n      <th>3</th>\n      <td>为什么儿童这么</td>\n      <td>为什么儿童这么爱出汗</td>\n      <td>Age</td>\n      <td>儿童</td>\n      <td>children</td>\n      <td>爱出汗</td>\n      <td>True</td>\n      <td>True</td>\n    </tr>\n    <tr>\n      <th>4</th>\n      <td>为什么儿童这么</td>\n      <td>儿童为什么说话这么晚</td>\n      <td>Age</td>\n      <td>儿童</td>\n      <td>children</td>\n      <td>儿童为什么说话这么晚</td>\n      <td>False</td>\n      <td>True</td>\n    </tr>\n    <tr>\n      <th>...</th>\n      <td>...</td>\n      <td>...</td>\n      <td>...</td>\n      <td>...</td>\n      <td>...</td>\n      <td>...</td>\n      <td>...</td>\n      <td>...</td>\n    </tr>\n    <tr>\n      <th>2321</th>\n      <td>为什么女同性恋这么</td>\n      <td>成都为什么女同性恋多</td>\n      <td>Sexual Orientation</td>\n      <td>女同性恋</td>\n      <td>lesbians</td>\n      <td>成都为什么女同性恋多</td>\n      <td>False</td>\n      <td>True</td>\n    </tr>\n    <tr>\n      <th>2322</th>\n      <td>为什么女同性恋这么</td>\n      <td>为什么女同性恋执着于上下</td>\n      <td>Sexual Orientation</td>\n      <td>女同性恋</td>\n      <td>lesbians</td>\n      <td>为什么女同性恋执着于上下</td>\n      <td>False</td>\n      <td>True</td>\n    </tr>\n    <tr>\n      <th>2323</th>\n      <td>为什么女同性恋这么</td>\n      <td>女同性恋为什么百合</td>\n      <td>Sexual Orientation</td>\n      <td>女同性恋</td>\n      <td>lesbians</td>\n      <td>女同性恋为什么百合</td>\n      <td>False</td>\n      <td>True</td>\n    </tr>\n    <tr>\n      <th>2324</th>\n      <td>为什么女同性恋这么</td>\n      <td>女同性恋为什么会产生</td>\n      <td>Sexual Orientation</td>\n      <td>女同性恋</td>\n      <td>lesbians</td>\n      <td>女同性恋为什么会产生</td>\n      <td>False</td>\n      <td>True</td>\n    </tr>\n    <tr>\n      <th>2325</th>\n      <td>为什么女同性恋这么</td>\n      <td>网络上女同性恋为什么那么多</td>\n      <td>Sexual Orientation</td>\n      <td>女同性恋</td>\n      <td>lesbians</td>\n      <td>网络上女同性恋为什么那么多</td>\n      <td>False</td>\n      <td>True</td>\n    </tr>\n  </tbody>\n</table>\n<p>1646 rows × 8 columns</p>\n</div>"
     },
     "execution_count": 186,
     "metadata": {},
     "output_type": "execute_result"
    }
   ],
   "source": [
    "combined_baidu"
   ],
   "metadata": {
    "collapsed": false,
    "ExecuteTime": {
     "end_time": "2023-12-19T06:56:39.485722Z",
     "start_time": "2023-12-19T06:56:38.919935Z"
    }
   },
   "id": "ad54e51fbce598f4"
  },
  {
   "cell_type": "markdown",
   "source": [
    "#### divide the baidu into two tempaltes"
   ],
   "metadata": {
    "collapsed": false
   },
   "id": "ae5d47becd62ede0"
  },
  {
   "cell_type": "code",
   "execution_count": 187,
   "outputs": [
    {
     "name": "stderr",
     "output_type": "stream",
     "text": [
      "/var/folders/x1/rg74ttxx7bb0_2z1wxpb2z940000gn/T/ipykernel_4328/3156955071.py:14: UserWarning: This pattern is interpreted as a regular expression, and has match groups. To actually get the groups, use str.extract.\n",
      "  baidu_template_1 = baidu[baidu['query'].str.contains(template_1_pattern)]\n",
      "/var/folders/x1/rg74ttxx7bb0_2z1wxpb2z940000gn/T/ipykernel_4328/3156955071.py:15: UserWarning: This pattern is interpreted as a regular expression, and has match groups. To actually get the groups, use str.extract.\n",
      "  baidu_template_2 = baidu[baidu['query'].str.contains(template_2_pattern)]\n"
     ]
    }
   ],
   "source": [
    "# change to template 1 and template 2 in baidu \n",
    "import re\n",
    "# # Define the templates and their corresponding regex patterns\n",
    "# template_1 = \"为什么待替换词汇这么\"\n",
    "# template_2 = \"待替换词汇为什么这么\"\n",
    "# Define the templates and their corresponding regex patterns\n",
    "template_1 = \"为什么.+(这么)\"\n",
    "template_2 = \"(.+)为什么这么\"\n",
    "# Compile the regex patterns\n",
    "template_1_pattern = re.compile(template_1)\n",
    "template_2_pattern = re.compile(template_2)\n",
    "\n",
    "# Filter the data based on the templates\n",
    "baidu_template_1 = baidu[baidu['query'].str.contains(template_1_pattern)]\n",
    "baidu_template_2 = baidu[baidu['query'].str.contains(template_2_pattern)]"
   ],
   "metadata": {
    "collapsed": false,
    "ExecuteTime": {
     "end_time": "2023-12-19T06:56:39.485822Z",
     "start_time": "2023-12-19T06:56:38.926065Z"
    }
   },
   "id": "4f57534323bc463d"
  },
  {
   "cell_type": "markdown",
   "source": [
    " ### check_unresponded_queries in baidu two templates "
   ],
   "metadata": {
    "collapsed": false
   },
   "id": "b4fd1bec9e3f59f"
  },
  {
   "cell_type": "code",
   "execution_count": 188,
   "outputs": [],
   "source": [
    "import pandas as pd\n",
    "\n",
    "# Initialize DataFrame and template list\n",
    "templates_Chinese = [\"为什么待替换词汇这么\", \"待替换词汇为什么这么\"]\n",
    "df = pd.DataFrame(columns=['query', 'category', 'group', 'English'])\n",
    "\n",
    "# Group translations by category and convert to dictionary\n",
    "translation_dict = data.groupby('Category')['Translation'].apply(list).to_dict()\n",
    "\n",
    "# Assuming you have a column 'English' in the 'data' DataFrame that maps each group to its English equivalent\n",
    "group_to_english = data.set_index('Translation')['English'].to_dict()\n",
    "\n",
    "# Build DataFrame using list comprehension\n",
    "rows = [\n",
    "    {\n",
    "        'query': template.replace(\"待替换词汇\", group).replace(\" \", \"+\"),\n",
    "        'category': category,\n",
    "        'group': group,\n",
    "        'English': group_to_english.get(group, 'Unknown')  # Get English equivalent from mapping\n",
    "    }\n",
    "    for category, groups in translation_dict.items()\n",
    "    for group in groups\n",
    "    for template in templates_Chinese\n",
    "]\n",
    "df = pd.DataFrame(rows)\n",
    "\n",
    "def check_unresponded_queries(main_df, comparison_df):\n",
    "    \"\"\"\n",
    "    Check which queries from main_df did not get a response in comparison_df.\n",
    "\n",
    "    :param main_df: DataFrame with 'query' column\n",
    "    :param comparison_df: DataFrame with 'query' column to compare against\n",
    "    :return: DataFrame with queries from main_df not present in comparison_df\n",
    "    \"\"\"\n",
    "    unresponded_queries = set(main_df['query']) - set(comparison_df['query'])\n",
    "    return main_df[main_df['query'].isin(unresponded_queries)].drop_duplicates('query').reset_index(drop=True)"
   ],
   "metadata": {
    "collapsed": false,
    "ExecuteTime": {
     "end_time": "2023-12-19T06:56:39.485864Z",
     "start_time": "2023-12-19T06:56:38.933707Z"
    }
   },
   "id": "3ee814dac79501a4"
  },
  {
   "cell_type": "code",
   "execution_count": 189,
   "outputs": [],
   "source": [
    "# Filter DataFrame for Template 1\n",
    "template_1_pattern = templates_Chinese[0].replace(\"待替换词汇\", \".+\").replace(\" \", \"\\+\")\n",
    "df_template_1 = df[df['query'].str.contains(template_1_pattern, regex=True)]\n",
    "\n",
    "# Filter DataFrame for Template 2\n",
    "template_2_pattern = templates_Chinese[1].replace(\"待替换词汇\", \".+\").replace(\" \", \"\\+\")\n",
    "df_template_2 = df[df['query'].str.contains(template_2_pattern, regex=True)]\n"
   ],
   "metadata": {
    "collapsed": false,
    "ExecuteTime": {
     "end_time": "2023-12-19T06:56:39.485906Z",
     "start_time": "2023-12-19T06:56:38.936923Z"
    }
   },
   "id": "3db55aebfbcc4bff"
  },
  {
   "cell_type": "code",
   "execution_count": 190,
   "outputs": [
    {
     "data": {
      "text/plain": "          query            category   group           English\n0    婴儿潮一代为什么这么                 Age   婴儿潮一代           boomers\n1      先生们为什么这么              Gender     先生们         gentlemen\n2       潮人为什么这么           Lifestyle      潮人          hipsters\n3      台灣人为什么这么       Nationalities     台灣人  Taiwanese people\n4     金发女郎为什么这么             Peoples    金发女郎           blondes\n5    共产主义者为什么这么           Political   共产主义者        communists\n6    社会主义者为什么这么           Political   社会主义者        socialists\n7      穆斯林为什么这么            Religion     穆斯林           Muslims\n8      新教徒为什么这么            Religion     新教徒       Protestants\n9     宗教人士为什么这么            Religion    宗教人士         religions\n10    泛性人群为什么这么  Sexual Orientation    泛性人群  pansexual people\n11  非异性恋群体为什么这么  Sexual Orientation  非异性恋群体      queer people",
      "text/html": "<div>\n<style scoped>\n    .dataframe tbody tr th:only-of-type {\n        vertical-align: middle;\n    }\n\n    .dataframe tbody tr th {\n        vertical-align: top;\n    }\n\n    .dataframe thead th {\n        text-align: right;\n    }\n</style>\n<table border=\"1\" class=\"dataframe\">\n  <thead>\n    <tr style=\"text-align: right;\">\n      <th></th>\n      <th>query</th>\n      <th>category</th>\n      <th>group</th>\n      <th>English</th>\n    </tr>\n  </thead>\n  <tbody>\n    <tr>\n      <th>0</th>\n      <td>婴儿潮一代为什么这么</td>\n      <td>Age</td>\n      <td>婴儿潮一代</td>\n      <td>boomers</td>\n    </tr>\n    <tr>\n      <th>1</th>\n      <td>先生们为什么这么</td>\n      <td>Gender</td>\n      <td>先生们</td>\n      <td>gentlemen</td>\n    </tr>\n    <tr>\n      <th>2</th>\n      <td>潮人为什么这么</td>\n      <td>Lifestyle</td>\n      <td>潮人</td>\n      <td>hipsters</td>\n    </tr>\n    <tr>\n      <th>3</th>\n      <td>台灣人为什么这么</td>\n      <td>Nationalities</td>\n      <td>台灣人</td>\n      <td>Taiwanese people</td>\n    </tr>\n    <tr>\n      <th>4</th>\n      <td>金发女郎为什么这么</td>\n      <td>Peoples</td>\n      <td>金发女郎</td>\n      <td>blondes</td>\n    </tr>\n    <tr>\n      <th>5</th>\n      <td>共产主义者为什么这么</td>\n      <td>Political</td>\n      <td>共产主义者</td>\n      <td>communists</td>\n    </tr>\n    <tr>\n      <th>6</th>\n      <td>社会主义者为什么这么</td>\n      <td>Political</td>\n      <td>社会主义者</td>\n      <td>socialists</td>\n    </tr>\n    <tr>\n      <th>7</th>\n      <td>穆斯林为什么这么</td>\n      <td>Religion</td>\n      <td>穆斯林</td>\n      <td>Muslims</td>\n    </tr>\n    <tr>\n      <th>8</th>\n      <td>新教徒为什么这么</td>\n      <td>Religion</td>\n      <td>新教徒</td>\n      <td>Protestants</td>\n    </tr>\n    <tr>\n      <th>9</th>\n      <td>宗教人士为什么这么</td>\n      <td>Religion</td>\n      <td>宗教人士</td>\n      <td>religions</td>\n    </tr>\n    <tr>\n      <th>10</th>\n      <td>泛性人群为什么这么</td>\n      <td>Sexual Orientation</td>\n      <td>泛性人群</td>\n      <td>pansexual people</td>\n    </tr>\n    <tr>\n      <th>11</th>\n      <td>非异性恋群体为什么这么</td>\n      <td>Sexual Orientation</td>\n      <td>非异性恋群体</td>\n      <td>queer people</td>\n    </tr>\n  </tbody>\n</table>\n</div>"
     },
     "execution_count": 190,
     "metadata": {},
     "output_type": "execute_result"
    }
   ],
   "source": [
    "# unresponded_queries_baidu_template_1\n",
    "unresponded_queries_baidu_template_1 = check_unresponded_queries(df_template_1, baidu_template_1)\n",
    "unresponded_queries_baidu_template_1\n",
    "# unresponded_queries_baidu_template_2\n",
    "unresponded_queries_baidu_template_2 = check_unresponded_queries(df_template_2, baidu_template_2)\n",
    "unresponded_queries_baidu_template_2"
   ],
   "metadata": {
    "collapsed": false,
    "ExecuteTime": {
     "end_time": "2023-12-19T06:56:39.486073Z",
     "start_time": "2023-12-19T06:56:38.941396Z"
    }
   },
   "id": "5eb3031c76d861f1"
  },
  {
   "cell_type": "code",
   "execution_count": 191,
   "outputs": [
    {
     "data": {
      "text/plain": "category\nAge                   1\nGender                1\nLifestyle             1\nNationalities         1\nPeoples               1\nPolitical             2\nReligion              3\nSexual Orientation    2\ndtype: int64"
     },
     "execution_count": 191,
     "metadata": {},
     "output_type": "execute_result"
    }
   ],
   "source": [
    "category_counts_in_template_2 = unresponded_queries_baidu_template_1.groupby('category').size()\n",
    "category_counts_in_template_2"
   ],
   "metadata": {
    "collapsed": false,
    "ExecuteTime": {
     "end_time": "2023-12-19T06:56:39.486188Z",
     "start_time": "2023-12-19T06:56:38.947312Z"
    }
   },
   "id": "a49e9bfac8e6e0ac"
  },
  {
   "cell_type": "markdown",
   "source": [
    "### Assess if any autocomplete suggestions are related to specific social groups."
   ],
   "metadata": {
    "collapsed": false
   },
   "id": "5c161d37fc3e59ce"
  },
  {
   "cell_type": "code",
   "execution_count": 192,
   "outputs": [],
   "source": [
    "# filter out data \n",
    "baidu_template_1_no_group_in_suggestion = baidu_template_1[baidu_template_1['group_in_suggestion'] == False]\n",
    "baidu_template_2_no_group_in_suggestion = baidu_template_2[baidu_template_2['group_in_suggestion'] == False]\n"
   ],
   "metadata": {
    "collapsed": false,
    "ExecuteTime": {
     "end_time": "2023-12-19T06:56:39.486229Z",
     "start_time": "2023-12-19T06:56:38.951004Z"
    }
   },
   "id": "483a51c93386fb32"
  },
  {
   "cell_type": "code",
   "execution_count": 193,
   "outputs": [
    {
     "data": {
      "text/plain": "         query         suggestion       category group group_English  \\\n1092  为什么伊朗人这么           为什么伊朗这么穷  Nationalities   伊朗人      Iranians   \n1093  为什么伊朗人这么  为什么伊朗这么多石油 没有成为富国  Nationalities   伊朗人      Iranians   \n1094  为什么伊朗人这么           为什么伊朗这么热  Nationalities   伊朗人      Iranians   \n1095  为什么伊朗人这么        为什么伊朗这么痛恨美国  Nationalities   伊朗人      Iranians   \n1096  为什么伊朗人这么          为什么伊朗这么封建  Nationalities   伊朗人      Iranians   \n1097  为什么伊朗人这么        为什么伊朗跟中国这么好  Nationalities   伊朗人      Iranians   \n1098  为什么伊朗人这么         为什么伊朗足球这么强  Nationalities   伊朗人      Iranians   \n1099  为什么伊朗人这么          伊朗为什么这么强硬  Nationalities   伊朗人      Iranians   \n1100  为什么伊朗人这么         伊朗男排为什么这么强  Nationalities   伊朗人      Iranians   \n1101  为什么伊朗人这么        伊朗gdp为什么这么高  Nationalities   伊朗人      Iranians   \n\n             completion  suggestion_starts_with_query  group_in_suggestion  \n1092           为什么伊朗这么穷                         False                False  \n1093  为什么伊朗这么多石油 没有成为富国                         False                False  \n1094           为什么伊朗这么热                         False                False  \n1095        为什么伊朗这么痛恨美国                         False                False  \n1096          为什么伊朗这么封建                         False                False  \n1097        为什么伊朗跟中国这么好                         False                False  \n1098         为什么伊朗足球这么强                         False                False  \n1099          伊朗为什么这么强硬                         False                False  \n1100         伊朗男排为什么这么强                         False                False  \n1101        伊朗gdp为什么这么高                         False                False  ",
      "text/html": "<div>\n<style scoped>\n    .dataframe tbody tr th:only-of-type {\n        vertical-align: middle;\n    }\n\n    .dataframe tbody tr th {\n        vertical-align: top;\n    }\n\n    .dataframe thead th {\n        text-align: right;\n    }\n</style>\n<table border=\"1\" class=\"dataframe\">\n  <thead>\n    <tr style=\"text-align: right;\">\n      <th></th>\n      <th>query</th>\n      <th>suggestion</th>\n      <th>category</th>\n      <th>group</th>\n      <th>group_English</th>\n      <th>completion</th>\n      <th>suggestion_starts_with_query</th>\n      <th>group_in_suggestion</th>\n    </tr>\n  </thead>\n  <tbody>\n    <tr>\n      <th>1092</th>\n      <td>为什么伊朗人这么</td>\n      <td>为什么伊朗这么穷</td>\n      <td>Nationalities</td>\n      <td>伊朗人</td>\n      <td>Iranians</td>\n      <td>为什么伊朗这么穷</td>\n      <td>False</td>\n      <td>False</td>\n    </tr>\n    <tr>\n      <th>1093</th>\n      <td>为什么伊朗人这么</td>\n      <td>为什么伊朗这么多石油 没有成为富国</td>\n      <td>Nationalities</td>\n      <td>伊朗人</td>\n      <td>Iranians</td>\n      <td>为什么伊朗这么多石油 没有成为富国</td>\n      <td>False</td>\n      <td>False</td>\n    </tr>\n    <tr>\n      <th>1094</th>\n      <td>为什么伊朗人这么</td>\n      <td>为什么伊朗这么热</td>\n      <td>Nationalities</td>\n      <td>伊朗人</td>\n      <td>Iranians</td>\n      <td>为什么伊朗这么热</td>\n      <td>False</td>\n      <td>False</td>\n    </tr>\n    <tr>\n      <th>1095</th>\n      <td>为什么伊朗人这么</td>\n      <td>为什么伊朗这么痛恨美国</td>\n      <td>Nationalities</td>\n      <td>伊朗人</td>\n      <td>Iranians</td>\n      <td>为什么伊朗这么痛恨美国</td>\n      <td>False</td>\n      <td>False</td>\n    </tr>\n    <tr>\n      <th>1096</th>\n      <td>为什么伊朗人这么</td>\n      <td>为什么伊朗这么封建</td>\n      <td>Nationalities</td>\n      <td>伊朗人</td>\n      <td>Iranians</td>\n      <td>为什么伊朗这么封建</td>\n      <td>False</td>\n      <td>False</td>\n    </tr>\n    <tr>\n      <th>1097</th>\n      <td>为什么伊朗人这么</td>\n      <td>为什么伊朗跟中国这么好</td>\n      <td>Nationalities</td>\n      <td>伊朗人</td>\n      <td>Iranians</td>\n      <td>为什么伊朗跟中国这么好</td>\n      <td>False</td>\n      <td>False</td>\n    </tr>\n    <tr>\n      <th>1098</th>\n      <td>为什么伊朗人这么</td>\n      <td>为什么伊朗足球这么强</td>\n      <td>Nationalities</td>\n      <td>伊朗人</td>\n      <td>Iranians</td>\n      <td>为什么伊朗足球这么强</td>\n      <td>False</td>\n      <td>False</td>\n    </tr>\n    <tr>\n      <th>1099</th>\n      <td>为什么伊朗人这么</td>\n      <td>伊朗为什么这么强硬</td>\n      <td>Nationalities</td>\n      <td>伊朗人</td>\n      <td>Iranians</td>\n      <td>伊朗为什么这么强硬</td>\n      <td>False</td>\n      <td>False</td>\n    </tr>\n    <tr>\n      <th>1100</th>\n      <td>为什么伊朗人这么</td>\n      <td>伊朗男排为什么这么强</td>\n      <td>Nationalities</td>\n      <td>伊朗人</td>\n      <td>Iranians</td>\n      <td>伊朗男排为什么这么强</td>\n      <td>False</td>\n      <td>False</td>\n    </tr>\n    <tr>\n      <th>1101</th>\n      <td>为什么伊朗人这么</td>\n      <td>伊朗gdp为什么这么高</td>\n      <td>Nationalities</td>\n      <td>伊朗人</td>\n      <td>Iranians</td>\n      <td>伊朗gdp为什么这么高</td>\n      <td>False</td>\n      <td>False</td>\n    </tr>\n  </tbody>\n</table>\n</div>"
     },
     "execution_count": 193,
     "metadata": {},
     "output_type": "execute_result"
    }
   ],
   "source": [
    "baidu_template_1_no_group_in_suggestion[baidu_template_1_no_group_in_suggestion['group_English'] == 'Iranians']"
   ],
   "metadata": {
    "collapsed": false,
    "ExecuteTime": {
     "end_time": "2023-12-19T06:56:39.486409Z",
     "start_time": "2023-12-19T06:56:38.952986Z"
    }
   },
   "id": "145b07f332cdc9b0"
  },
  {
   "cell_type": "code",
   "execution_count": 194,
   "outputs": [
    {
     "data": {
      "text/plain": "group_English\nIranians         1.0\nBlack parents    1.0\nredheads         1.0\nRomanians        1.0\npopulists        1.0\n                ... \nJews             0.0\nItalians         0.0\nIrish people     0.0\nIraqis           0.0\nwomen            0.0\nName: count, Length: 134, dtype: float64"
     },
     "execution_count": 194,
     "metadata": {},
     "output_type": "execute_result"
    }
   ],
   "source": [
    "# check the number of groups in each template\n",
    "total_counts_per_group = baidu_template_1['group_English'].value_counts()\n",
    "\n",
    "# check the number of groups are not in suggestion \n",
    "no_group_in_suggestion_counts = baidu_template_1_no_group_in_suggestion['group_English'].value_counts()\n",
    "\n",
    "# calculate the ratio \n",
    "proportions_no_group_in_suggestion = no_group_in_suggestion_counts / total_counts_per_group\n",
    "\n",
    "\n",
    "# Fill NaN values with 0 in the calculated ratio\n",
    "proportions_no_group_in_suggestion = proportions_no_group_in_suggestion.fillna(0)\n",
    "\n",
    "# Sorting the series to find the top 10 values\n",
    "proportions_no_group_in_suggestion.sort_values(ascending=False)"
   ],
   "metadata": {
    "collapsed": false,
    "ExecuteTime": {
     "end_time": "2023-12-19T06:56:39.486749Z",
     "start_time": "2023-12-19T06:56:38.960446Z"
    }
   },
   "id": "f5a35150ae4b0739"
  },
  {
   "cell_type": "code",
   "execution_count": 195,
   "outputs": [
    {
     "data": {
      "text/plain": "category\nAge                   0.014286\nGender                0.038462\nLifestyle             0.000000\nNationalities         0.294118\nPeoples               0.662879\nPolitical             0.557692\nReligion              0.132075\nSexual Orientation    0.600000\ndtype: float64"
     },
     "execution_count": 195,
     "metadata": {},
     "output_type": "execute_result"
    }
   ],
   "source": [
    "# 1. Calculate the total occurrence counts of 'group_English' for each 'category'\n",
    "total_counts_per_category = baidu_template_1.groupby('category')['group_English'].value_counts().unstack(fill_value=0).sum(axis=1)\n",
    "\n",
    "# 2. Calculate the counts of 'group_English' not appearing in suggestions for each 'category'\n",
    "no_group_in_suggestion_counts_per_category = baidu_template_1_no_group_in_suggestion.groupby('category')['group_English'].value_counts().unstack(fill_value=0).sum(axis=1)\n",
    "\n",
    "# 3. Calculate the proportions of 'group_English' not appearing in suggestions for each 'category'\n",
    "proportions_no_group_in_category = no_group_in_suggestion_counts_per_category / total_counts_per_category\n",
    "\n",
    "# 4. Replace NaN values with 0\n",
    "proportions_no_group_in_category = proportions_no_group_in_category.fillna(0)\n",
    "\n",
    "# Display the result\n",
    "proportions_no_group_in_category\n"
   ],
   "metadata": {
    "collapsed": false,
    "ExecuteTime": {
     "end_time": "2023-12-19T06:56:39.486852Z",
     "start_time": "2023-12-19T06:56:38.964934Z"
    }
   },
   "id": "e49e90c6490194dc"
  },
  {
   "cell_type": "code",
   "execution_count": 196,
   "outputs": [
    {
     "data": {
      "text/plain": "category\nAge                   0.014286\nGender                0.038095\nLifestyle             0.000000\nNationalities         0.242574\nPeoples               0.679389\nPolitical             0.547170\nReligion              0.132075\nSexual Orientation    0.600000\ndtype: float64"
     },
     "execution_count": 196,
     "metadata": {},
     "output_type": "execute_result"
    }
   ],
   "source": [
    "# 1. Calculate the total occurrence counts of 'group_English' for each 'category' in baidu_template_2\n",
    "total_counts_per_category = baidu_template_2.groupby('category')['group_English'].value_counts().unstack(fill_value=0).sum(axis=1)\n",
    "\n",
    "# 2. Calculate the counts of 'group_English' not appearing in suggestions for each 'category' in baidu_template_2\n",
    "no_group_in_suggestion_counts_per_category = baidu_template_2_no_group_in_suggestion.groupby('category')['group_English'].value_counts().unstack(fill_value=0).sum(axis=1)\n",
    "\n",
    "# 3. Calculate the proportions of 'group_English' not appearing in suggestions for each 'category' in baidu_template_2\n",
    "proportions_no_group_in_category = no_group_in_suggestion_counts_per_category / total_counts_per_category\n",
    "\n",
    "# 4. Replace NaN values with 0 in the calculated proportions\n",
    "proportions_no_group_in_category = proportions_no_group_in_category.fillna(0)\n",
    "\n",
    "# Display the result of the proportions calculation\n",
    "proportions_no_group_in_category\n"
   ],
   "metadata": {
    "collapsed": false,
    "ExecuteTime": {
     "end_time": "2023-12-19T06:56:39.486947Z",
     "start_time": "2023-12-19T06:56:38.971879Z"
    }
   },
   "id": "ad52d638d49be785"
  },
  {
   "cell_type": "code",
   "execution_count": null,
   "outputs": [],
   "source": [],
   "metadata": {
    "collapsed": false
   },
   "id": "b18d100c5d979aa4"
  },
  {
   "cell_type": "markdown",
   "source": [
    "### Relevance of Suggestions:\n",
    "###  Determine whether the suggestions are relevant to the initial search query."
   ],
   "metadata": {
    "collapsed": false
   },
   "id": "65374c7880cc143b"
  },
  {
   "cell_type": "code",
   "execution_count": 197,
   "outputs": [],
   "source": [
    "baidu_template_1_suggestion_not_start_with_query = baidu_template_1[baidu_template_1['suggestion_starts_with_query'] == False]\n",
    "baidu_template_2_suggestion_not_start_with_query = baidu_template_2[baidu_template_2['suggestion_starts_with_query'] == False]"
   ],
   "metadata": {
    "collapsed": false,
    "ExecuteTime": {
     "end_time": "2023-12-19T06:56:39.486987Z",
     "start_time": "2023-12-19T06:56:38.978326Z"
    }
   },
   "id": "5b33f301f7f49970"
  },
  {
   "cell_type": "code",
   "execution_count": 197,
   "outputs": [],
   "source": [],
   "metadata": {
    "collapsed": false,
    "ExecuteTime": {
     "end_time": "2023-12-19T06:56:39.487026Z",
     "start_time": "2023-12-19T06:56:38.980897Z"
    }
   },
   "id": "cee39df43b5bc28d"
  },
  {
   "cell_type": "code",
   "execution_count": 198,
   "outputs": [
    {
     "data": {
      "text/plain": "category\nAge                   0.485714\nGender                0.418269\nLifestyle             0.836957\nNationalities         0.710784\nPeoples               0.825758\nPolitical             0.730769\nReligion              0.773585\nSexual Orientation    1.000000\ndtype: float64"
     },
     "execution_count": 198,
     "metadata": {},
     "output_type": "execute_result"
    }
   ],
   "source": [
    "# Calculate the total occurrence counts of 'group_English' for each 'category' in baidu_template_1\n",
    "total_counts_per_category = baidu_template_1.groupby('category')['group_English'].value_counts().unstack(fill_value=0).sum(axis=1)\n",
    "\n",
    "# Calculate the counts of 'group_English' where suggestions do not start with the query for each 'category' in baidu_template_1\n",
    "suggestion_not_start_with_query_counts_per_category = baidu_template_1_suggestion_not_start_with_query.groupby('category')['group_English'].value_counts().unstack(fill_value=0).sum(axis=1)\n",
    "\n",
    "# Calculate the proportions of 'group_English' where suggestions do not start with the query for each 'category' in baidu_template_1\n",
    "proportions_suggestion_not_start_with_query_counts = suggestion_not_start_with_query_counts_per_category  / total_counts_per_category\n",
    "\n",
    "# Replace NaN values with 0 in the calculated proportions\n",
    "proportions_suggestion_not_start_with_query_counts = proportions_suggestion_not_start_with_query_counts.fillna(0)\n",
    "\n",
    "# Display the result of the proportions calculation\n",
    "proportions_suggestion_not_start_with_query_counts\n"
   ],
   "metadata": {
    "collapsed": false,
    "ExecuteTime": {
     "end_time": "2023-12-19T06:56:39.487112Z",
     "start_time": "2023-12-19T06:56:38.983819Z"
    }
   },
   "id": "939852a6db1f62a0"
  },
  {
   "cell_type": "code",
   "execution_count": 199,
   "outputs": [
    {
     "data": {
      "text/plain": "African Americans     0.0\nAge                   0.0\nAlbanians             0.0\nAsian kids            0.0\nAsian men             0.0\nAsian parents         0.0\nAsian women           0.0\nBlack Americans       0.0\nBlack fathers         0.0\nBlack kids            0.0\nBlack men             0.0\nBlack parents         0.0\nBlack women           0.0\nEthiopians            0.0\nGender                0.0\nGhanaians             0.0\nHispanic men          0.0\nHispanic women        0.0\nHispanics             0.0\nIndonesians           0.0\nIranians              0.0\nLatin people          0.0\nLatinas               0.0\nLatinos               0.0\nLebanese people       0.0\nLifestyle             0.0\nMormons               0.0\nNationalities         0.0\nPakistanis            0.0\nPeoples               0.0\nPolish people         0.0\nPolitical             0.0\nReligion              0.0\nRomanians             0.0\nSexual Orientation    0.0\nSikhs                 0.0\nSomalis               0.0\nSudanese people       0.0\nSyrians               0.0\nTaiwanese people      0.0\nTrump supporters      0.0\nWhite Americans       0.0\nWhite kids            0.0\nWhite men             0.0\nWhite parents         0.0\nWhite women           0.0\nasexual people        0.0\nbisexual people       0.0\ngay people            0.0\nliberals              0.0\nmillennials           0.0\npopulists             0.0\nredheads              0.0\nschoolboys            0.0\ndtype: float64"
     },
     "execution_count": 199,
     "metadata": {},
     "output_type": "execute_result"
    }
   ],
   "source": [
    "# Calculate the total occurrence counts of 'group_English' for each 'category' in baidu_template_1\n",
    "total_counts_per_category = baidu_template_2.groupby('category')['group_English'].value_counts().unstack(fill_value=0).sum(axis=1)\n",
    "# Calculate the counts of 'group_English' where suggestions do not start with the query for each 'category' in baidu_template_1\n",
    "suggestion_not_start_with_query_counts_per_category = baidu_template_2_suggestion_not_start_with_query.groupby('category')['group_English'].value_counts().unstack(fill_value=0).sum(axis=1)\n",
    "\n",
    "# Calculate the proportions of 'group_English' where suggestions do not start with the query for each 'category' in baidu_template_1\n",
    "proportions_suggestion_not_start_with_query_counts = no_group_in_suggestion_counts  / total_counts_per_category\n",
    "\n",
    "# Replace NaN values with 0 in the calculated proportions\n",
    "proportions_suggestion_not_start_with_query_counts = proportions_suggestion_not_start_with_query_counts.fillna(0)\n",
    "\n",
    "# Display the result of the proportions calculation\n",
    "proportions_suggestion_not_start_with_query_counts\n",
    "   "
   ],
   "metadata": {
    "collapsed": false,
    "ExecuteTime": {
     "end_time": "2023-12-19T06:56:39.487228Z",
     "start_time": "2023-12-19T06:56:38.990323Z"
    }
   },
   "id": "a0a8f6037bc3b8e6"
  },
  {
   "cell_type": "code",
   "execution_count": 212,
   "outputs": [
    {
     "data": {
      "text/plain": "category\nAge                   0.314286\nGender                0.423810\nLifestyle             0.771739\nNationalities         0.527228\nPeoples               0.801527\nPolitical             0.811321\nReligion              0.698113\nSexual Orientation    1.000000\ndtype: float64"
     },
     "execution_count": 212,
     "metadata": {},
     "output_type": "execute_result"
    }
   ],
   "source": [
    "# Calculate the total occurrence counts of 'group_English' for each 'category' in baidu_template_1\n",
    "total_counts_per_category = baidu_template_2.groupby('category')['group_English'].value_counts().unstack(fill_value=0).sum(axis=1)\n",
    "\n",
    "# Calculate the counts of 'group_English' where suggestions do not start with the query for each 'category' in baidu_template_1\n",
    "suggestion_not_start_with_query_counts_per_category = baidu_template_2_suggestion_not_start_with_query.groupby('category')['group_English'].value_counts().unstack(fill_value=0).sum(axis=1)\n",
    "\n",
    "# Calculate the proportions of 'group_English' where suggestions do not start with the query for each 'category' in baidu_template_1\n",
    "proportions_suggestion_not_start_with_query_counts = suggestion_not_start_with_query_counts_per_category  / total_counts_per_category\n",
    "\n",
    "# Replace NaN values with 0 in the calculated proportions\n",
    "proportions_suggestion_not_start_with_query_counts = proportions_suggestion_not_start_with_query_counts.fillna(0)\n",
    "\n",
    "# Display the result of the proportions calculation\n",
    "proportions_suggestion_not_start_with_query_counts"
   ],
   "metadata": {
    "collapsed": false,
    "ExecuteTime": {
     "end_time": "2023-12-19T06:57:35.186675Z",
     "start_time": "2023-12-19T06:57:35.166484Z"
    }
   },
   "id": "626c7d8de08088cf"
  },
  {
   "cell_type": "code",
   "execution_count": 200,
   "outputs": [],
   "source": [
    "baidu_template_1_suggestion_not_start_with_query = baidu_template_1[baidu_template_1['suggestion_starts_with_query'] == False]\n",
    "baidu_template_2_suggestion_not_start_with_query = baidu_template_2[baidu_template_2['suggestion_starts_with_query'] == False]"
   ],
   "metadata": {
    "collapsed": false,
    "ExecuteTime": {
     "end_time": "2023-12-19T06:56:39.487327Z",
     "start_time": "2023-12-19T06:56:38.997745Z"
    }
   },
   "id": "b9b1cc2703965cd2"
  },
  {
   "cell_type": "code",
   "execution_count": 201,
   "outputs": [
    {
     "name": "stdout",
     "output_type": "stream",
     "text": [
      "805\n",
      "705\n"
     ]
    }
   ],
   "source": [
    "print(len(baidu_template_1_suggestion_not_start_with_query))\n",
    "print(len(baidu_template_2_suggestion_not_start_with_query))"
   ],
   "metadata": {
    "collapsed": false,
    "ExecuteTime": {
     "end_time": "2023-12-19T06:56:39.487421Z",
     "start_time": "2023-12-19T06:56:39.000627Z"
    }
   },
   "id": "96d4dfb249351af7"
  },
  {
   "cell_type": "code",
   "execution_count": 213,
   "outputs": [],
   "source": [],
   "metadata": {
    "collapsed": false,
    "ExecuteTime": {
     "end_time": "2023-12-19T08:25:53.180949Z",
     "start_time": "2023-12-19T08:25:53.165018Z"
    }
   },
   "id": "b06a0f2823c83305"
  },
  {
   "cell_type": "code",
   "execution_count": 215,
   "outputs": [
    {
     "name": "stdout",
     "output_type": "stream",
     "text": [
      "          query            category   group           English\n",
      "0    为什么婴儿潮一代这么                 Age   婴儿潮一代           boomers\n",
      "1     为什么千禧一代这么                 Age    千禧一代       millennials\n",
      "2     为什么老年妇女这么                 Age    老年妇女         old women\n",
      "3       为什么继父这么              Gender      继父       stepfathers\n",
      "4      为什么女士们这么              Gender     女士们            ladies\n",
      "..          ...                 ...     ...               ...\n",
      "80   为什么男同性恋者这么  Sexual Orientation   男同性恋者        gay people\n",
      "81    为什么同性恋者这么  Sexual Orientation    同性恋者       homosexuals\n",
      "82    为什么女同性恋这么  Sexual Orientation    女同性恋          lesbians\n",
      "83    为什么泛性人群这么  Sexual Orientation    泛性人群  pansexual people\n",
      "84  为什么非异性恋群体这么  Sexual Orientation  非异性恋群体      queer people\n",
      "\n",
      "[85 rows x 4 columns]\n",
      "          query            category   group           English\n",
      "0    婴儿潮一代为什么这么                 Age   婴儿潮一代           boomers\n",
      "1     千禧一代为什么这么                 Age    千禧一代       millennials\n",
      "2     老年妇女为什么这么                 Age    老年妇女         old women\n",
      "3      女士们为什么这么              Gender     女士们            ladies\n",
      "4      先生们为什么这么              Gender     先生们         gentlemen\n",
      "..          ...                 ...     ...               ...\n",
      "60   男同性恋者为什么这么  Sexual Orientation   男同性恋者        gay people\n",
      "61    同性恋者为什么这么  Sexual Orientation    同性恋者       homosexuals\n",
      "62    女同性恋为什么这么  Sexual Orientation    女同性恋          lesbians\n",
      "63    泛性人群为什么这么  Sexual Orientation    泛性人群  pansexual people\n",
      "64  非异性恋群体为什么这么  Sexual Orientation  非异性恋群体      queer people\n",
      "\n",
      "[65 rows x 4 columns]\n"
     ]
    }
   ],
   "source": [],
   "metadata": {
    "collapsed": false,
    "ExecuteTime": {
     "end_time": "2023-12-19T08:26:40.428587Z",
     "start_time": "2023-12-19T08:26:40.416124Z"
    }
   },
   "id": "5ec0a8707887b7b9"
  },
  {
   "cell_type": "markdown",
   "source": [
    "### google "
   ],
   "metadata": {
    "collapsed": false
   },
   "id": "782bc641eeb16e62"
  },
  {
   "cell_type": "code",
   "execution_count": 202,
   "outputs": [],
   "source": [
    "def is_suggestion_valid(query, suggestion):\n",
    "    # Convert both query and suggestionc to the same case (lowercase in this case)\n",
    "    return suggestion.lower().startswith(query.lower())"
   ],
   "metadata": {
    "collapsed": false,
    "ExecuteTime": {
     "end_time": "2023-12-19T06:56:39.487468Z",
     "start_time": "2023-12-19T06:56:39.002979Z"
    }
   },
   "id": "ab2d27cdf5ce442f"
  },
  {
   "cell_type": "code",
   "execution_count": 203,
   "outputs": [],
   "source": [
    "def check_suggestion_starts_with_query(row):\n",
    "    query = row['query'].lower()  # Convert query to lowercase\n",
    "    suggestion = row['suggestion'].lower()  # Convert suggestion to lowercase\n",
    "    return suggestion.startswith(query)\n",
    "\n",
    "# Function to check if lowercase 'suggestion' contains lowercase 'group'\n",
    "def contains_group(row):\n",
    "    group_lower = row['group'].lower()  # Convert group to lowercase\n",
    "    suggestion_lower = row['suggestion'].lower()  # Convert suggestion to lowercase\n",
    "    return group_lower in suggestion_lower\n",
    "\n",
    "# Apply the function to each row in the DataFrame\n",
    "google['suggestion_starts_with_query'] = google.apply(check_suggestion_starts_with_query, axis=1)\n",
    "\n",
    "# Apply the function to each row and create a new column\n",
    "google['group_in_suggestion'] = google.apply(contains_group, axis=1)\n"
   ],
   "metadata": {
    "collapsed": false,
    "ExecuteTime": {
     "end_time": "2023-12-19T06:56:39.487512Z",
     "start_time": "2023-12-19T06:56:39.010896Z"
    }
   },
   "id": "d56c86f3b4867dc0"
  },
  {
   "cell_type": "code",
   "execution_count": 204,
   "outputs": [],
   "source": [
    "# Group translations by category and convert to dictionary\n",
    "translation_dict = data.groupby('Category')['English'].apply(list).to_dict()\n",
    "# Initialize an empty DataFrame\n",
    "df_original = pd.DataFrame(columns=['query', 'category', 'group'])\n",
    "templates_English = [\"why are term_to_use so\"]\n",
    "\n",
    "# Construct DataFrame using list comprehension\n",
    "rows = [\n",
    "    {'query': template.replace(\"term_to_use\", group), 'category': category, 'group': group}\n",
    "    for category, groups in translation_dict.items()\n",
    "    for group in groups\n",
    "    for template in templates_English\n",
    "]\n",
    "df_original = pd.DataFrame(rows)\n",
    "\n",
    "def check_unresponded_queries(main_df, comparison_df):\n",
    "    \"\"\"\n",
    "    Check which queries from main_df did not get a response in comparison_df.\n",
    "\n",
    "    :param main_df: DataFrame with 'query' column\n",
    "    :param comparison_df: DataFrame with 'query' column to compare against\n",
    "    :return: DataFrame with queries from main_df not present in comparison_df\n",
    "    \"\"\"\n",
    "    unresponded_queries = set(main_df['query']) - set(comparison_df['query'])\n",
    "    return main_df[main_df['query'].isin(unresponded_queries)].drop_duplicates('query').reset_index(drop=True)"
   ],
   "metadata": {
    "collapsed": false,
    "ExecuteTime": {
     "end_time": "2023-12-19T06:56:39.487562Z",
     "start_time": "2023-12-19T06:56:39.015331Z"
    }
   },
   "id": "141d4262ca53d221"
  },
  {
   "cell_type": "code",
   "execution_count": 205,
   "outputs": [
    {
     "name": "stdout",
     "output_type": "stream",
     "text": [
      "                          query            category             group\n",
      "0            why are old men so                 Age           old men\n",
      "1          why are old women so                 Age         old women\n",
      "2               why are boys so              Gender              boys\n",
      "3             why are ladies so              Gender            ladies\n",
      "4         why are schoolboys so              Gender        schoolboys\n",
      "..                          ...                 ...               ...\n",
      "66        why are gay people so  Sexual Orientation        gay people\n",
      "67       why are homosexuals so  Sexual Orientation       homosexuals\n",
      "68          why are lesbians so  Sexual Orientation          lesbians\n",
      "69  why are pansexual people so  Sexual Orientation  pansexual people\n",
      "70      why are queer people so  Sexual Orientation      queer people\n",
      "\n",
      "[71 rows x 3 columns]\n"
     ]
    },
    {
     "data": {
      "text/plain": "category\nAge                    2\nGender                 4\nLifestyle              4\nNationalities         23\nPeoples               21\nPolitical              4\nReligion               6\nSexual Orientation     7\ndtype: int64"
     },
     "execution_count": 205,
     "metadata": {},
     "output_type": "execute_result"
    }
   ],
   "source": [
    "# Check for unresponded queries in various search engines\n",
    "unresponded_queries_google = check_unresponded_queries(df_original, google)\n",
    "print(unresponded_queries_google)\n",
    "\n",
    "category_counts_in_google = unresponded_queries_google.groupby('category').size()\n",
    "category_counts_in_google"
   ],
   "metadata": {
    "collapsed": false,
    "ExecuteTime": {
     "end_time": "2023-12-19T06:56:39.487684Z",
     "start_time": "2023-12-19T06:56:39.019011Z"
    }
   },
   "id": "c050a74160a016f5"
  },
  {
   "cell_type": "code",
   "execution_count": 205,
   "outputs": [],
   "source": [],
   "metadata": {
    "collapsed": false,
    "ExecuteTime": {
     "end_time": "2023-12-19T06:56:39.487728Z",
     "start_time": "2023-12-19T06:56:39.022368Z"
    }
   },
   "id": "439f4ac5b584eb95"
  },
  {
   "cell_type": "code",
   "execution_count": 205,
   "outputs": [],
   "source": [],
   "metadata": {
    "collapsed": false,
    "ExecuteTime": {
     "end_time": "2023-12-19T06:56:39.487770Z",
     "start_time": "2023-12-19T06:56:39.024507Z"
    }
   },
   "id": "bbeb453f2562dfc5"
  },
  {
   "cell_type": "code",
   "execution_count": 206,
   "outputs": [
    {
     "data": {
      "text/plain": "          query            category   group           English\n0    为什么婴儿潮一代这么                 Age   婴儿潮一代           boomers\n1      为什么先生们这么              Gender     先生们         gentlemen\n2       为什么潮人这么           Lifestyle      潮人          hipsters\n3    为什么哥伦比亚人这么       Nationalities   哥伦比亚人        Colombians\n4     为什么金发女郎这么             Peoples    金发女郎           blondes\n5    为什么共产主义者这么           Political   共产主义者        communists\n6    为什么社会主义者这么           Political   社会主义者        socialists\n7      为什么穆斯林这么            Religion     穆斯林           Muslims\n8      为什么新教徒这么            Religion     新教徒       Protestants\n9     为什么宗教人士这么            Religion    宗教人士         religions\n10    为什么泛性人群这么  Sexual Orientation    泛性人群  pansexual people\n11  为什么非异性恋群体这么  Sexual Orientation  非异性恋群体      queer people",
      "text/html": "<div>\n<style scoped>\n    .dataframe tbody tr th:only-of-type {\n        vertical-align: middle;\n    }\n\n    .dataframe tbody tr th {\n        vertical-align: top;\n    }\n\n    .dataframe thead th {\n        text-align: right;\n    }\n</style>\n<table border=\"1\" class=\"dataframe\">\n  <thead>\n    <tr style=\"text-align: right;\">\n      <th></th>\n      <th>query</th>\n      <th>category</th>\n      <th>group</th>\n      <th>English</th>\n    </tr>\n  </thead>\n  <tbody>\n    <tr>\n      <th>0</th>\n      <td>为什么婴儿潮一代这么</td>\n      <td>Age</td>\n      <td>婴儿潮一代</td>\n      <td>boomers</td>\n    </tr>\n    <tr>\n      <th>1</th>\n      <td>为什么先生们这么</td>\n      <td>Gender</td>\n      <td>先生们</td>\n      <td>gentlemen</td>\n    </tr>\n    <tr>\n      <th>2</th>\n      <td>为什么潮人这么</td>\n      <td>Lifestyle</td>\n      <td>潮人</td>\n      <td>hipsters</td>\n    </tr>\n    <tr>\n      <th>3</th>\n      <td>为什么哥伦比亚人这么</td>\n      <td>Nationalities</td>\n      <td>哥伦比亚人</td>\n      <td>Colombians</td>\n    </tr>\n    <tr>\n      <th>4</th>\n      <td>为什么金发女郎这么</td>\n      <td>Peoples</td>\n      <td>金发女郎</td>\n      <td>blondes</td>\n    </tr>\n    <tr>\n      <th>5</th>\n      <td>为什么共产主义者这么</td>\n      <td>Political</td>\n      <td>共产主义者</td>\n      <td>communists</td>\n    </tr>\n    <tr>\n      <th>6</th>\n      <td>为什么社会主义者这么</td>\n      <td>Political</td>\n      <td>社会主义者</td>\n      <td>socialists</td>\n    </tr>\n    <tr>\n      <th>7</th>\n      <td>为什么穆斯林这么</td>\n      <td>Religion</td>\n      <td>穆斯林</td>\n      <td>Muslims</td>\n    </tr>\n    <tr>\n      <th>8</th>\n      <td>为什么新教徒这么</td>\n      <td>Religion</td>\n      <td>新教徒</td>\n      <td>Protestants</td>\n    </tr>\n    <tr>\n      <th>9</th>\n      <td>为什么宗教人士这么</td>\n      <td>Religion</td>\n      <td>宗教人士</td>\n      <td>religions</td>\n    </tr>\n    <tr>\n      <th>10</th>\n      <td>为什么泛性人群这么</td>\n      <td>Sexual Orientation</td>\n      <td>泛性人群</td>\n      <td>pansexual people</td>\n    </tr>\n    <tr>\n      <th>11</th>\n      <td>为什么非异性恋群体这么</td>\n      <td>Sexual Orientation</td>\n      <td>非异性恋群体</td>\n      <td>queer people</td>\n    </tr>\n  </tbody>\n</table>\n</div>"
     },
     "execution_count": 206,
     "metadata": {},
     "output_type": "execute_result"
    }
   ],
   "source": [
    "unresponded_queries_baidu_template_1"
   ],
   "metadata": {
    "collapsed": false,
    "ExecuteTime": {
     "end_time": "2023-12-19T06:56:39.487943Z",
     "start_time": "2023-12-19T06:56:39.028175Z"
    }
   },
   "id": "552dc7804cd7d7f"
  },
  {
   "cell_type": "code",
   "execution_count": 207,
   "outputs": [
    {
     "name": "stdout",
     "output_type": "stream",
     "text": [
      "{'Muslims', 'queer people', 'pansexual people', 'communists'}\n"
     ]
    }
   ],
   "source": [
    "# Assuming these are your Series\n",
    "unresponded_queries_google_series = unresponded_queries_google.group # Replace this with the actual Series for Google\n",
    "unresponded_queries_baidu_series = unresponded_queries_baidu_template_1.English # Replace this with the actual Series for Baidu\n",
    "# Converting Series to sets\n",
    "unresponded_queries_google_set = set(unresponded_queries_google_series.tolist())\n",
    "unresponded_queries_baidu_set = set(unresponded_queries_baidu_series.tolist())\n",
    "\n",
    "# Finding the intersection\n",
    "common_queries = unresponded_queries_google_set.intersection(unresponded_queries_baidu_set)\n",
    "\n",
    "# Printing the common queries\n",
    "print(common_queries)\n",
    "\n"
   ],
   "metadata": {
    "collapsed": false,
    "ExecuteTime": {
     "end_time": "2023-12-19T06:56:39.488019Z",
     "start_time": "2023-12-19T06:56:39.031053Z"
    }
   },
   "id": "652492e7df5da039"
  },
  {
   "cell_type": "markdown",
   "source": [
    "### Assess if any autocomplete suggestions are related to specific social groups."
   ],
   "metadata": {
    "collapsed": false
   },
   "id": "ab37b28af28d508a"
  },
  {
   "cell_type": "code",
   "execution_count": 208,
   "outputs": [
    {
     "data": {
      "text/plain": "group\nIraqis          1.0\nschoolgirls     1.0\ngrandfathers    1.0\nNepalis         1.0\nBuddhists       1.0\n               ... \nSwedes          0.0\ncelebrities     0.0\nAmericans       0.0\nboomers         0.0\nwomen           0.0\nName: count, Length: 75, dtype: float64"
     },
     "execution_count": 208,
     "metadata": {},
     "output_type": "execute_result"
    }
   ],
   "source": [
    "# filter out data \n",
    "google_no_group_in_suggestion = google[google['group_in_suggestion'] == False]\n",
    "\n",
    "\n",
    "# check the number of groups in each template\n",
    "total_counts_per_group = google['group'].value_counts()\n",
    "\n",
    "# check the number of groups are not in suggestion \n",
    "no_group_in_suggestion_counts = google_no_group_in_suggestion['group'].value_counts()\n",
    "\n",
    "# calculate the ratio \n",
    "proportions_no_group_in_suggestion = no_group_in_suggestion_counts / total_counts_per_group\n",
    "\n",
    "# Fill NaN values with 0 in the calculated ratio\n",
    "proportions_no_group_in_suggestion = proportions_no_group_in_suggestion.fillna(0)\n",
    "\n",
    "# Sorting the series to find the top 10 values\n",
    "proportions_no_group_in_suggestion.sort_values(ascending=False)"
   ],
   "metadata": {
    "collapsed": false,
    "ExecuteTime": {
     "end_time": "2023-12-19T06:56:39.488114Z",
     "start_time": "2023-12-19T06:56:39.034694Z"
    }
   },
   "id": "46f3f771491e69aa"
  },
  {
   "cell_type": "code",
   "execution_count": 209,
   "outputs": [
    {
     "data": {
      "text/plain": "category\nAge              0.204545\nGender           0.255556\nLifestyle        0.320388\nNationalities    0.379487\nPeoples          0.151515\nPolitical        0.375000\nReligion         0.604651\ndtype: float64"
     },
     "execution_count": 209,
     "metadata": {},
     "output_type": "execute_result"
    }
   ],
   "source": [
    "# Calculate the total occurrence counts of 'group_English' for each 'category' in baidu_template_1\n",
    "total_counts_per_category = google.groupby('category')['group'].value_counts().unstack(fill_value=0).sum(axis=1)\n",
    "# Calculate the counts of 'group_English' where suggestions do not start with the query for each 'category' in baidu_template_1\n",
    "no_group_in_suggestion_counts = google_no_group_in_suggestion.groupby('category')['group'].value_counts().unstack(fill_value=0).sum(axis=1)\n",
    "\n",
    "# Calculate the proportions of 'group_English' where suggestions do not start with the query for each 'category' in baidu_template_1\n",
    "proportions_no_group_in_suggestion = no_group_in_suggestion_counts / total_counts_per_category\n",
    "\n",
    "# Replace NaN values with 0 in the calculated proportions\n",
    "proportions_no_group_in_suggestion = proportions_no_group_in_suggestion.fillna(0)\n",
    "# Display the result of the proportions calculation\n",
    "proportions_no_group_in_suggestion"
   ],
   "metadata": {
    "collapsed": false,
    "ExecuteTime": {
     "end_time": "2023-12-19T06:56:39.488215Z",
     "start_time": "2023-12-19T06:56:39.038877Z"
    }
   },
   "id": "5c553b3950866a94"
  },
  {
   "cell_type": "code",
   "execution_count": 209,
   "outputs": [],
   "source": [],
   "metadata": {
    "collapsed": false,
    "ExecuteTime": {
     "end_time": "2023-12-19T06:56:39.488256Z",
     "start_time": "2023-12-19T06:56:39.045138Z"
    }
   },
   "id": "5c80f02a7405e3ab"
  },
  {
   "cell_type": "markdown",
   "source": [
    "baidu_template_1_suggestion_not_start_with_query = baidu_template_1[baidu_template_1['suggestion_starts_with_query'] == False]"
   ],
   "metadata": {
    "collapsed": false
   },
   "id": "3e4ff2ead073c813"
  },
  {
   "cell_type": "code",
   "execution_count": 210,
   "outputs": [],
   "source": [
    "google_suggestion_not_start_with_query= google[google['suggestion_starts_with_query'] == False]\n"
   ],
   "metadata": {
    "collapsed": false,
    "ExecuteTime": {
     "end_time": "2023-12-19T06:56:39.488306Z",
     "start_time": "2023-12-19T06:56:39.047662Z"
    }
   },
   "id": "6134100188c4b4c6"
  },
  {
   "cell_type": "code",
   "execution_count": 211,
   "outputs": [
    {
     "data": {
      "text/plain": "category\nAge              0.204545\nGender           0.344444\nLifestyle        0.456311\nNationalities    0.451282\nPeoples          0.166667\nPolitical        0.812500\nReligion         0.720930\ndtype: float64"
     },
     "execution_count": 211,
     "metadata": {},
     "output_type": "execute_result"
    }
   ],
   "source": [
    "# Calculate the total occurrence counts of 'group_English' for each 'category' in baidu_template_1\n",
    "total_counts_per_category = google.groupby('category')['group'].value_counts().unstack(fill_value=0).sum(axis=1)\n",
    "# Calculate the counts of 'group_English' where suggestions do not start with the query for each 'category' in baidu_template_1\n",
    "suggestion_not_start_with_query_counts_per_category = google_suggestion_not_start_with_query.groupby('category')['group'].value_counts().unstack(fill_value=0).sum(axis=1)\n",
    "\n",
    "# Calculate the proportions of 'group_English' where suggestions do not start with the query for each 'category' in baidu_template_1\n",
    "proportions_suggestion_not_start_with_query_counts = suggestion_not_start_with_query_counts_per_category   / total_counts_per_category\n",
    "\n",
    "# Replace NaN values with 0 in the calculated proportions\n",
    "proportions_suggestion_not_start_with_query_counts = proportions_suggestion_not_start_with_query_counts.fillna(0)\n",
    "\n",
    "# Display the result of the proportions calculation\n",
    "proportions_suggestion_not_start_with_query_counts"
   ],
   "metadata": {
    "collapsed": false,
    "ExecuteTime": {
     "end_time": "2023-12-19T06:56:39.488396Z",
     "start_time": "2023-12-19T06:56:39.050640Z"
    }
   },
   "id": "fa0c9bcdb72d1805"
  },
  {
   "cell_type": "code",
   "execution_count": 225,
   "outputs": [],
   "source": [
    "google_suggestion_start_with_query= google[google['suggestion_starts_with_query'] == True]\n",
    "baidu_template_1_suggestion_start_with_query = baidu_template_1[baidu_template_1['suggestion_starts_with_query'] == True]\n",
    "baidu_template_2_suggestion_start_with_query = baidu_template_2[baidu_template_2['suggestion_starts_with_query'] == True]"
   ],
   "metadata": {
    "collapsed": false,
    "ExecuteTime": {
     "end_time": "2023-12-19T09:05:17.846954Z",
     "start_time": "2023-12-19T09:05:17.829329Z"
    }
   },
   "id": "31d611a0cc5338f1"
  },
  {
   "cell_type": "code",
   "execution_count": null,
   "outputs": [],
   "source": [
    "df_template_1"
   ],
   "metadata": {
    "collapsed": false
   },
   "id": "a79b3e04e0f0a212"
  },
  {
   "cell_type": "code",
   "execution_count": 239,
   "outputs": [
    {
     "name": "stderr",
     "output_type": "stream",
     "text": [
      "/var/folders/x1/rg74ttxx7bb0_2z1wxpb2z940000gn/T/ipykernel_4328/1213754453.py:26: FutureWarning: \n",
      "\n",
      "Passing `palette` without assigning `hue` is deprecated and will be removed in v0.14.0. Assign the `x` variable to `hue` and set `legend=False` for the same effect.\n",
      "\n",
      "  bars = sns.barplot(x=unresponded_category_percentage.index, y=unresponded_category_percentage.values, palette='colorblind', ax=axes[i])\n",
      "/var/folders/x1/rg74ttxx7bb0_2z1wxpb2z940000gn/T/ipykernel_4328/1213754453.py:26: FutureWarning: \n",
      "\n",
      "Passing `palette` without assigning `hue` is deprecated and will be removed in v0.14.0. Assign the `x` variable to `hue` and set `legend=False` for the same effect.\n",
      "\n",
      "  bars = sns.barplot(x=unresponded_category_percentage.index, y=unresponded_category_percentage.values, palette='colorblind', ax=axes[i])\n",
      "/var/folders/x1/rg74ttxx7bb0_2z1wxpb2z940000gn/T/ipykernel_4328/1213754453.py:26: FutureWarning: \n",
      "\n",
      "Passing `palette` without assigning `hue` is deprecated and will be removed in v0.14.0. Assign the `x` variable to `hue` and set `legend=False` for the same effect.\n",
      "\n",
      "  bars = sns.barplot(x=unresponded_category_percentage.index, y=unresponded_category_percentage.values, palette='colorblind', ax=axes[i])\n"
     ]
    },
    {
     "data": {
      "text/plain": "<Figure size 2000x700 with 3 Axes>",
      "image/png": "[encoded data removed]"
     },
     "metadata": {},
     "output_type": "display_data"
    }
   ],
   "source": [
    "import pandas as pd\n",
    "import seaborn as sns\n",
    "import matplotlib.pyplot as plt\n",
    "\n",
    "def visualize_unresponded_percentage_with_hatching(df_original, df_template_1, df_template_2, unresponded_dfs, search_engine_names):\n",
    "    \"\"\"\n",
    "    Visualize the percentage of unresponded queries by category with consistent hatching for each category across search engines.\n",
    "    \"\"\"\n",
    "    fig, axes = plt.subplots(1, len(search_engine_names), figsize=(20, 7), sharey=True)\n",
    "\n",
    "    # Define hatching patterns for each category\n",
    "    categories = df_original['category'].unique()\n",
    "    hatches = ['/', '\\\\', '|', '-', '+', 'x', 'o', 'O', '.', '*']\n",
    "    category_to_hatch = {category: hatch for category, hatch in zip(categories, hatches)}\n",
    "\n",
    "    for i, (unresponded_df, search_engine_name) in enumerate(zip(unresponded_dfs, search_engine_names)):\n",
    "        # Select the appropriate DataFrame based on the search engine name\n",
    "        current_df = df_template_1 if 'Baidu Template 1' in search_engine_name else df_template_2 if 'Baidu Template 2' in search_engine_name else df_original\n",
    "\n",
    "        # Calculate percentages\n",
    "        total_category_counts = current_df['category'].value_counts()\n",
    "        unresponded_category_counts = unresponded_df['category'].value_counts()\n",
    "        unresponded_category_percentage = (unresponded_category_counts / total_category_counts).fillna(0) * 100\n",
    "\n",
    "        # Plot with hatching\n",
    "        bars = sns.barplot(x=unresponded_category_percentage.index, y=unresponded_category_percentage.values, palette='colorblind', ax=axes[i])\n",
    "        for bar, category in zip(bars.patches, unresponded_category_percentage.index):\n",
    "            bar.set_hatch(category_to_hatch[category])\n",
    "\n",
    "        # Set plot titles and labels\n",
    "        axes[i].set_title(f'{search_engine_name}', fontweight='bold')\n",
    "        axes[i].set_ylabel('Percentage of Unresponded Queries (%)', fontweight='bold')\n",
    "        axes[i].set_xlabel('Category', fontweight='bold')\n",
    "        axes[i].tick_params(axis='x', labelrotation=45)\n",
    "        for label in axes[i].get_xticklabels():\n",
    "            label.set_fontweight('bold')\n",
    "\n",
    "    plt.tight_layout()\n",
    "    plt.savefig('Unresponded Queries.png', dpi=300, format='png', transparent=True)\n",
    "    plt.show()\n",
    "\n",
    "# Usage example\n",
    "visualize_unresponded_percentage_with_hatching(df_original, df_template_1, df_template_2, [unresponded_queries_google,unresponded_queries_baidu_template_1, unresponded_queries_baidu_template_2], ['Google', 'Baidu Template 1', 'Baidu Template 2'])\n"
   ],
   "metadata": {
    "collapsed": false,
    "ExecuteTime": {
     "end_time": "2023-12-19T09:44:58.535251Z",
     "start_time": "2023-12-19T09:44:57.173293Z"
    }
   },
   "id": "7625bad99c32eb7f"
  },
  {
   "cell_type": "code",
   "execution_count": 240,
   "outputs": [
    {
     "name": "stdout",
     "output_type": "stream",
     "text": [
      "Chi-squared: 1.5840340419658012, p-value: 0.9792569990568306, Degrees of freedom: 7\n"
     ]
    }
   ],
   "source": [
    "from scipy.stats import chi2_contingency\n",
    "\n",
    "def create_contingency_table(df_original, unresponded_df1, unresponded_df2):\n",
    "    # Get total counts and unresponded counts for each category\n",
    "    total_counts = df_original['category'].value_counts()\n",
    "    unresponded_counts1 = unresponded_df1['category'].value_counts()\n",
    "    unresponded_counts2 = unresponded_df2['category'].value_counts()\n",
    "\n",
    "    # Create a DataFrame for the contingency table\n",
    "    table = pd.DataFrame({\n",
    "        'Unresponded1': unresponded_counts1,\n",
    "        'Responded1': total_counts - unresponded_counts1,\n",
    "        'Unresponded2': unresponded_counts2,\n",
    "        'Responded2': total_counts - unresponded_counts2\n",
    "    }).fillna(0)\n",
    "\n",
    "    return table\n",
    "\n",
    "def perform_chi_squared_test(table):\n",
    "    # Perform the chi-squared test\n",
    "    chi2, p, dof, _ = chi2_contingency(table.iloc[:, [0, 2]])\n",
    "    return chi2, p, dof\n",
    "\n",
    "# Example usage\n",
    "contingency_table = create_contingency_table(df_original, unresponded_queries_google, unresponded_queries_baidu_template_1)\n",
    "chi2, p, dof = perform_chi_squared_test(contingency_table)\n",
    "\n",
    "print(f\"Chi-squared: {chi2}, p-value: {p}, Degrees of freedom: {dof}\")\n"
   ],
   "metadata": {
    "collapsed": false,
    "ExecuteTime": {
     "end_time": "2023-12-19T09:48:20.011890Z",
     "start_time": "2023-12-19T09:48:19.983845Z"
    }
   },
   "id": "a756f1568f2c3377"
  },
  {
   "cell_type": "code",
   "execution_count": 236,
   "outputs": [
    {
     "data": {
      "text/plain": "           query            category   group           English\n0     为什么婴儿潮一代这么                 Age   婴儿潮一代           boomers\n2        为什么儿童这么                 Age      儿童          children\n4        为什么孩子这么                 Age      孩子              kids\n6      为什么千禧一代这么                 Age    千禧一代       millennials\n8        为什么老人这么                 Age      老人           old men\n..           ...                 ...     ...               ...\n282   为什么男同性恋者这么  Sexual Orientation   男同性恋者        gay people\n284    为什么同性恋者这么  Sexual Orientation    同性恋者       homosexuals\n286    为什么女同性恋这么  Sexual Orientation    女同性恋          lesbians\n288    为什么泛性人群这么  Sexual Orientation    泛性人群  pansexual people\n290  为什么非异性恋群体这么  Sexual Orientation  非异性恋群体      queer people\n\n[146 rows x 4 columns]",
      "text/html": "<div>\n<style scoped>\n    .dataframe tbody tr th:only-of-type {\n        vertical-align: middle;\n    }\n\n    .dataframe tbody tr th {\n        vertical-align: top;\n    }\n\n    .dataframe thead th {\n        text-align: right;\n    }\n</style>\n<table border=\"1\" class=\"dataframe\">\n  <thead>\n    <tr style=\"text-align: right;\">\n      <th></th>\n      <th>query</th>\n      <th>category</th>\n      <th>group</th>\n      <th>English</th>\n    </tr>\n  </thead>\n  <tbody>\n    <tr>\n      <th>0</th>\n      <td>为什么婴儿潮一代这么</td>\n      <td>Age</td>\n      <td>婴儿潮一代</td>\n      <td>boomers</td>\n    </tr>\n    <tr>\n      <th>2</th>\n      <td>为什么儿童这么</td>\n      <td>Age</td>\n      <td>儿童</td>\n      <td>children</td>\n    </tr>\n    <tr>\n      <th>4</th>\n      <td>为什么孩子这么</td>\n      <td>Age</td>\n      <td>孩子</td>\n      <td>kids</td>\n    </tr>\n    <tr>\n      <th>6</th>\n      <td>为什么千禧一代这么</td>\n      <td>Age</td>\n      <td>千禧一代</td>\n      <td>millennials</td>\n    </tr>\n    <tr>\n      <th>8</th>\n      <td>为什么老人这么</td>\n      <td>Age</td>\n      <td>老人</td>\n      <td>old men</td>\n    </tr>\n    <tr>\n      <th>...</th>\n      <td>...</td>\n      <td>...</td>\n      <td>...</td>\n      <td>...</td>\n    </tr>\n    <tr>\n      <th>282</th>\n      <td>为什么男同性恋者这么</td>\n      <td>Sexual Orientation</td>\n      <td>男同性恋者</td>\n      <td>gay people</td>\n    </tr>\n    <tr>\n      <th>284</th>\n      <td>为什么同性恋者这么</td>\n      <td>Sexual Orientation</td>\n      <td>同性恋者</td>\n      <td>homosexuals</td>\n    </tr>\n    <tr>\n      <th>286</th>\n      <td>为什么女同性恋这么</td>\n      <td>Sexual Orientation</td>\n      <td>女同性恋</td>\n      <td>lesbians</td>\n    </tr>\n    <tr>\n      <th>288</th>\n      <td>为什么泛性人群这么</td>\n      <td>Sexual Orientation</td>\n      <td>泛性人群</td>\n      <td>pansexual people</td>\n    </tr>\n    <tr>\n      <th>290</th>\n      <td>为什么非异性恋群体这么</td>\n      <td>Sexual Orientation</td>\n      <td>非异性恋群体</td>\n      <td>queer people</td>\n    </tr>\n  </tbody>\n</table>\n<p>146 rows × 4 columns</p>\n</div>"
     },
     "execution_count": 236,
     "metadata": {},
     "output_type": "execute_result"
    }
   ],
   "source": [
    "df_template_1"
   ],
   "metadata": {
    "collapsed": false,
    "ExecuteTime": {
     "end_time": "2023-12-19T09:36:20.879918Z",
     "start_time": "2023-12-19T09:36:20.847052Z"
    }
   },
   "id": "14e71abeca2e1d66"
  },
  {
   "cell_type": "code",
   "execution_count": 224,
   "outputs": [
    {
     "name": "stdout",
     "output_type": "stream",
     "text": [
      "Chi-Squared: 5.772170903100694\n",
      "P-value: 0.05579419476088393\n",
      "Degrees of Freedom: 2\n",
      "Expected Frequencies:\n",
      "[[73.66666667 73.66666667 73.66666667]\n",
      " [72.33333333 72.33333333 72.33333333]]\n"
     ]
    }
   ],
   "source": [
    "from scipy.stats import chi2_contingency\n",
    "\n",
    "# Sum up unresponded counts for each search engine\n",
    "unresponded_google_count = unresponded_queries_google['category'].value_counts().sum()\n",
    "unresponded_baidu1_count = unresponded_queries_baidu_template_1['category'].value_counts().sum()\n",
    "unresponded_baidu2_count = unresponded_queries_baidu_template_2['category'].value_counts().sum()\n",
    "\n",
    "# Calculate total counts for each search engine\n",
    "total_google_count = df_original['category'].value_counts().sum()\n",
    "total_baidu1_count = df_template_1['category'].value_counts().sum()\n",
    "total_baidu2_count = df_template_2['category'].value_counts().sum()\n",
    "\n",
    "# Calculate responded counts\n",
    "responded_google_count = total_google_count - unresponded_google_count\n",
    "responded_baidu1_count = total_baidu1_count - unresponded_baidu1_count\n",
    "responded_baidu2_count = total_baidu2_count - unresponded_baidu2_count\n",
    "\n",
    "# Create the contingency table\n",
    "data = {\n",
    "    \"Google\": [unresponded_google_count, responded_google_count],\n",
    "    \"Baidu Template 1\": [unresponded_baidu1_count, responded_baidu1_count],\n",
    "    \"Baidu Template 2\": [unresponded_baidu2_count, responded_baidu2_count]\n",
    "}\n",
    "df_chi = pd.DataFrame(data, index=[\"Unresponded\", \"Responded\"])\n",
    "\n",
    "# Perform the Chi-Squared test\n",
    "chi2, p, dof, expected = chi2_contingency(df_chi)\n",
    "\n",
    "# Print the results\n",
    "print(f\"Chi-Squared: {chi2}\")\n",
    "print(f\"P-value: {p}\")\n",
    "print(f\"Degrees of Freedom: {dof}\")\n",
    "print(\"Expected Frequencies:\")\n",
    "print(expected)\n"
   ],
   "metadata": {
    "collapsed": false,
    "ExecuteTime": {
     "end_time": "2023-12-19T08:58:44.404182Z",
     "start_time": "2023-12-19T08:58:44.381059Z"
    }
   },
   "id": "e3db763003058053"
  }
 ],
 "metadata": {
  "kernelspec": {
   "name": "myenv",
   "language": "python",
   "display_name": "bias_in_engines"
  },
  "language_info": {
   "codemirror_mode": {
    "name": "ipython",
    "version": 2
   },
   "file_extension": ".py",
   "mimetype": "text/x-python",
   "name": "python",
   "nbconvert_exporter": "python",
   "pygments_lexer": "ipython2",
   "version": "2.7.6"
  }
 },
 "nbformat": 4,
 "nbformat_minor": 5
}
